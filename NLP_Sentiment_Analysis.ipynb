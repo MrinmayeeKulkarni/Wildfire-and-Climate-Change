{
 "cells": [
  {
   "cell_type": "code",
   "execution_count": 1,
   "metadata": {},
   "outputs": [],
   "source": [
    "# System\n",
    "import os\n",
    "#nltk.download('stopwords')\n",
    "# Time\n",
    "import time\n",
    "import datetime\n",
    "\n",
    "# Numerical\n",
    "import numpy as np\n",
    "import pandas as pd\n",
    "\n",
    "# Tools\n",
    "import itertools\n",
    "from collections import Counter\n",
    "from wordcloud import WordCloud,STOPWORDS\n",
    "\n",
    "# NLP\n",
    "import nltk\n",
    "import re\n",
    "from nltk.corpus import stopwords\n",
    "from nltk.tokenize import word_tokenize \n",
    "from nltk.stem import SnowballStemmer\n",
    "from nltk.stem import PorterStemmer\n",
    "from nltk.stem import WordNetLemmatizer\n",
    "# from pywsd.utils import lemmatize_sentence\n",
    "\n",
    "# Preprocessing\n",
    "from sklearn import preprocessing\n",
    "from sklearn.utils import class_weight as cw\n",
    "from sklearn.feature_extraction.text import CountVectorizer,TfidfVectorizer, ENGLISH_STOP_WORDS\n",
    "from sklearn.preprocessing import StandardScaler\n",
    "from sklearn.preprocessing import LabelEncoder\n",
    "from sklearn.model_selection import train_test_split\n",
    "from sklearn.feature_extraction.text import TfidfVectorizer\n",
    "from bs4 import BeautifulSoup\n",
    "import re\n",
    "\n",
    "# Model Selection\n",
    "from sklearn.model_selection import train_test_split, cross_val_score, GridSearchCV,cross_val_predict\n",
    "\n",
    "# Machine Learning Models\n",
    "from sklearn.linear_model import LogisticRegression, LogisticRegressionCV\n",
    "from sklearn import svm\n",
    "from sklearn.svm import SVC\n",
    "from sklearn.naive_bayes import MultinomialNB\n",
    "from sklearn.neighbors import KNeighborsClassifier\n",
    "from sklearn.ensemble import AdaBoostClassifier, RandomForestClassifier, BaggingClassifier, ExtraTreesClassifier\n",
    "from sklearn.tree import DecisionTreeClassifier\n",
    "\n",
    "# Evaluation Metrics\n",
    "from sklearn import metrics \n",
    "from sklearn.metrics import f1_score, accuracy_score,confusion_matrix,classification_report\n",
    "\n",
    "# Visualization\n",
    "import matplotlib.pyplot as plt\n",
    "import seaborn as sns"
   ]
  },
  {
   "cell_type": "code",
   "execution_count": 2,
   "metadata": {},
   "outputs": [],
   "source": [
    "df = pd.read_csv('data/twitter_sentiment_data.csv')"
   ]
  },
  {
   "cell_type": "code",
   "execution_count": 3,
   "metadata": {},
   "outputs": [
    {
     "data": {
      "text/html": [
       "<div>\n",
       "<style scoped>\n",
       "    .dataframe tbody tr th:only-of-type {\n",
       "        vertical-align: middle;\n",
       "    }\n",
       "\n",
       "    .dataframe tbody tr th {\n",
       "        vertical-align: top;\n",
       "    }\n",
       "\n",
       "    .dataframe thead th {\n",
       "        text-align: right;\n",
       "    }\n",
       "</style>\n",
       "<table border=\"1\" class=\"dataframe\">\n",
       "  <thead>\n",
       "    <tr style=\"text-align: right;\">\n",
       "      <th></th>\n",
       "      <th>sentiment</th>\n",
       "      <th>message</th>\n",
       "      <th>tweetid</th>\n",
       "    </tr>\n",
       "  </thead>\n",
       "  <tbody>\n",
       "    <tr>\n",
       "      <th>0</th>\n",
       "      <td>-1</td>\n",
       "      <td>@tiniebeany climate change is an interesting h...</td>\n",
       "      <td>792927353886371840</td>\n",
       "    </tr>\n",
       "    <tr>\n",
       "      <th>1</th>\n",
       "      <td>1</td>\n",
       "      <td>RT @NatGeoChannel: Watch #BeforeTheFlood right...</td>\n",
       "      <td>793124211518832641</td>\n",
       "    </tr>\n",
       "    <tr>\n",
       "      <th>2</th>\n",
       "      <td>1</td>\n",
       "      <td>Fabulous! Leonardo #DiCaprio's film on #climat...</td>\n",
       "      <td>793124402388832256</td>\n",
       "    </tr>\n",
       "    <tr>\n",
       "      <th>3</th>\n",
       "      <td>1</td>\n",
       "      <td>RT @Mick_Fanning: Just watched this amazing do...</td>\n",
       "      <td>793124635873275904</td>\n",
       "    </tr>\n",
       "    <tr>\n",
       "      <th>4</th>\n",
       "      <td>2</td>\n",
       "      <td>RT @cnalive: Pranita Biswasi, a Lutheran from ...</td>\n",
       "      <td>793125156185137153</td>\n",
       "    </tr>\n",
       "  </tbody>\n",
       "</table>\n",
       "</div>"
      ],
      "text/plain": [
       "   sentiment                                            message  \\\n",
       "0         -1  @tiniebeany climate change is an interesting h...   \n",
       "1          1  RT @NatGeoChannel: Watch #BeforeTheFlood right...   \n",
       "2          1  Fabulous! Leonardo #DiCaprio's film on #climat...   \n",
       "3          1  RT @Mick_Fanning: Just watched this amazing do...   \n",
       "4          2  RT @cnalive: Pranita Biswasi, a Lutheran from ...   \n",
       "\n",
       "              tweetid  \n",
       "0  792927353886371840  \n",
       "1  793124211518832641  \n",
       "2  793124402388832256  \n",
       "3  793124635873275904  \n",
       "4  793125156185137153  "
      ]
     },
     "execution_count": 3,
     "metadata": {},
     "output_type": "execute_result"
    }
   ],
   "source": [
    "df.head()"
   ]
  },
  {
   "cell_type": "code",
   "execution_count": 4,
   "metadata": {},
   "outputs": [
    {
     "name": "stdout",
     "output_type": "stream",
     "text": [
      "<class 'pandas.core.frame.DataFrame'>\n",
      "RangeIndex: 43943 entries, 0 to 43942\n",
      "Data columns (total 3 columns):\n",
      "sentiment    43943 non-null int64\n",
      "message      43943 non-null object\n",
      "tweetid      43943 non-null int64\n",
      "dtypes: int64(2), object(1)\n",
      "memory usage: 1.0+ MB\n"
     ]
    }
   ],
   "source": [
    "df.info()"
   ]
  },
  {
   "cell_type": "code",
   "execution_count": 5,
   "metadata": {},
   "outputs": [
    {
     "data": {
      "text/html": [
       "<div>\n",
       "<style scoped>\n",
       "    .dataframe tbody tr th:only-of-type {\n",
       "        vertical-align: middle;\n",
       "    }\n",
       "\n",
       "    .dataframe tbody tr th {\n",
       "        vertical-align: top;\n",
       "    }\n",
       "\n",
       "    .dataframe thead th {\n",
       "        text-align: right;\n",
       "    }\n",
       "</style>\n",
       "<table border=\"1\" class=\"dataframe\">\n",
       "  <thead>\n",
       "    <tr style=\"text-align: right;\">\n",
       "      <th></th>\n",
       "      <th>sentiment</th>\n",
       "      <th>message</th>\n",
       "      <th>tweetid</th>\n",
       "    </tr>\n",
       "  </thead>\n",
       "  <tbody>\n",
       "  </tbody>\n",
       "</table>\n",
       "</div>"
      ],
      "text/plain": [
       "Empty DataFrame\n",
       "Columns: [sentiment, message, tweetid]\n",
       "Index: []"
      ]
     },
     "execution_count": 5,
     "metadata": {},
     "output_type": "execute_result"
    }
   ],
   "source": [
    "# checking if there are any null values\n",
    "df[df.isnull().any(axis=1)].head()"
   ]
  },
  {
   "cell_type": "markdown",
   "metadata": {},
   "source": [
    "# Visualization"
   ]
  },
  {
   "cell_type": "code",
   "execution_count": 4,
   "metadata": {},
   "outputs": [
    {
     "data": {
      "text/plain": [
       "[]"
      ]
     },
     "execution_count": 4,
     "metadata": {},
     "output_type": "execute_result"
    },
    {
     "data": {
      "image/png": "[encoded data removed]",
      "text/plain": [
       "<Figure size 1440x360 with 1 Axes>"
      ]
     },
     "metadata": {
      "needs_background": "light"
     },
     "output_type": "display_data"
    }
   ],
   "source": [
    "figsize=(20, 5)\n",
    "\n",
    "ticksize = 14\n",
    "titlesize = ticksize + 8\n",
    "labelsize = ticksize + 5\n",
    "\n",
    "params = {'figure.figsize' : figsize,\n",
    "          'axes.labelsize' : labelsize,\n",
    "          'axes.titlesize' : titlesize,\n",
    "          'xtick.labelsize': ticksize,\n",
    "          'ytick.labelsize': ticksize}\n",
    "\n",
    "plt.rcParams.update(params)\n",
    "\n",
    "plt.subplot(122)\n",
    "col = \"sentiment\"\n",
    "xlabel = \"Sentiment\"\n",
    "ylabel = \"Count\"\n",
    "sns.countplot(df[col])\n",
    "# creating titles and labels\n",
    "plt.title(\"Review Sentiment Count\")\n",
    "plt.xlabel(xlabel)\n",
    "plt.ylabel(ylabel)\n",
    "plt.xticks(rotation=90)\n",
    "plt.plot()"
   ]
  },
  {
   "cell_type": "code",
   "execution_count": 11,
   "metadata": {},
   "outputs": [
    {
     "data": {
      "image/png": "[encoded data removed]",
      "text/plain": [
       "<Figure size 432x288 with 1 Axes>"
      ]
     },
     "metadata": {
      "needs_background": "light"
     },
     "output_type": "display_data"
    }
   ],
   "source": [
    "# generating wordcloud \n",
    "\n",
    "# joining tweets to a single string\n",
    "words = ' '.join(df['message'])\n",
    "\n",
    "# remove URLs, RTs, and twitter handles\n",
    "no_urls_no_tags = \" \".join([word for word in words.split()\n",
    "                            if 'http' not in word\n",
    "                                and not word.startswith('@')\n",
    "                                and word != 'RT'\n",
    "                            ])\n",
    "# basic wordcloud without separating positive and negative tweets\n",
    "wordcloud = WordCloud(\n",
    "                      stopwords=STOPWORDS,\n",
    "                      background_color='white',\n",
    "                      width=3000,\n",
    "                      height=2000\n",
    "                     ).generate(no_urls_no_tags)\n",
    "\n",
    "plt.imshow(wordcloud)\n",
    "plt.axis('off')\n",
    "plt.savefig('./twitter_wordcloud.png', dpi=360)\n",
    "plt.show()"
   ]
  },
  {
   "cell_type": "markdown",
   "metadata": {},
   "source": [
    "# Training Model"
   ]
  },
  {
   "cell_type": "markdown",
   "metadata": {},
   "source": [
    "Logistic Regression with tfidf vectorizer"
   ]
  },
  {
   "cell_type": "code",
   "execution_count": 6,
   "metadata": {},
   "outputs": [
    {
     "name": "stderr",
     "output_type": "stream",
     "text": [
      "C:\\Users\\mrunm\\anaconda\\Anaconda3\\lib\\site-packages\\sklearn\\linear_model\\logistic.py:433: FutureWarning: Default solver will be changed to 'lbfgs' in 0.22. Specify a solver to silence this warning.\n",
      "  FutureWarning)\n",
      "C:\\Users\\mrunm\\anaconda\\Anaconda3\\lib\\site-packages\\sklearn\\linear_model\\logistic.py:460: FutureWarning: Default multi_class will be changed to 'auto' in 0.22. Specify the multi_class option to silence this warning.\n",
      "  \"this warning.\", FutureWarning)\n"
     ]
    },
    {
     "name": "stdout",
     "output_type": "stream",
     "text": [
      "(8789, 22589)\n",
      "Accuracy: 63.70 percent\n"
     ]
    },
    {
     "name": "stderr",
     "output_type": "stream",
     "text": [
      "C:\\Users\\mrunm\\anaconda\\Anaconda3\\lib\\site-packages\\sklearn\\model_selection\\_split.py:2053: FutureWarning: You should specify a value for 'cv' instead of relying on the default value. The default value will change from 3 to 5 in version 0.22.\n",
      "  warnings.warn(CV_WARNING, FutureWarning)\n",
      "C:\\Users\\mrunm\\anaconda\\Anaconda3\\lib\\site-packages\\sklearn\\linear_model\\logistic.py:433: FutureWarning: Default solver will be changed to 'lbfgs' in 0.22. Specify a solver to silence this warning.\n",
      "  FutureWarning)\n",
      "C:\\Users\\mrunm\\anaconda\\Anaconda3\\lib\\site-packages\\sklearn\\linear_model\\logistic.py:460: FutureWarning: Default multi_class will be changed to 'auto' in 0.22. Specify the multi_class option to silence this warning.\n",
      "  \"this warning.\", FutureWarning)\n"
     ]
    }
   ],
   "source": [
    "# Define the vector of labels and matrix of features\n",
    "y = df[\"sentiment\"]\n",
    "X = df[\"message\"]\n",
    "# Perform the train-test split\n",
    "X_train, X_test, y_train, y_test = train_test_split(X, y, test_size=0.2, random_state=42)\n",
    "vct_tweet=TfidfVectorizer(stop_words=ENGLISH_STOP_WORDS)\n",
    "# Create sparse matrix from the tfidf vectorizer\n",
    "tfidf_train_x = vct_tweet.fit_transform(X_train)\n",
    "tfidf_test_x = vct_tweet.fit_transform(X_test)\n",
    "# Build a logistic regression model and print out the accuracy\n",
    "log_reg = LogisticRegression()\n",
    "log_reg.fit(tfidf_train_x,y_train)\n",
    "#print (tfidf_test_x.shape)\n",
    "scores = cross_val_score(log_reg,tfidf_test_x, y_test)\n",
    "acc = scores.mean()\n",
    "print (\"Accuracy: %0.2f percent\" % (acc *100))"
   ]
  },
  {
   "cell_type": "markdown",
   "metadata": {},
   "source": [
    "Comparing two logistic regressions with different penalties"
   ]
  },
  {
   "cell_type": "code",
   "execution_count": 8,
   "metadata": {},
   "outputs": [
    {
     "name": "stdout",
     "output_type": "stream",
     "text": [
      " 1    0.522541\n",
      " 2    0.211092\n",
      " 0    0.175568\n",
      "-1    0.090799\n",
      "Name: sentiment, dtype: float64\n"
     ]
    }
   ],
   "source": [
    "#set up X and y\n",
    "X_train = df['message']\n",
    "y_train = df['sentiment']\n",
    "#set up baseline \n",
    "print (y_train.value_counts(normalize=True))\n",
    "baseline = 0.3"
   ]
  },
  {
   "cell_type": "code",
   "execution_count": 9,
   "metadata": {},
   "outputs": [],
   "source": [
    "lr = LogisticRegression(random_state=1)"
   ]
  },
  {
   "cell_type": "code",
   "execution_count": 10,
   "metadata": {},
   "outputs": [
    {
     "name": "stderr",
     "output_type": "stream",
     "text": [
      "C:\\Users\\mrunm\\anaconda\\Anaconda3\\lib\\site-packages\\sklearn\\linear_model\\logistic.py:433: FutureWarning: Default solver will be changed to 'lbfgs' in 0.22. Specify a solver to silence this warning.\n",
      "  FutureWarning)\n",
      "C:\\Users\\mrunm\\anaconda\\Anaconda3\\lib\\site-packages\\sklearn\\linear_model\\logistic.py:460: FutureWarning: Default multi_class will be changed to 'auto' in 0.22. Specify the multi_class option to silence this warning.\n",
      "  \"this warning.\", FutureWarning)\n"
     ]
    },
    {
     "name": "stdout",
     "output_type": "stream",
     "text": [
      "Tfidf Vectorizer Score: 0.6654973690077446\n"
     ]
    }
   ],
   "source": [
    "# initalise the vectorizer \n",
    "vector_twt = TfidfVectorizer(stop_words=ENGLISH_STOP_WORDS)\n",
    "# fit the training data on the model\n",
    "vector_twt.fit(X_train)\n",
    "\n",
    "#transform training data into sparse matrix\n",
    "X_train_twt = vector_twt.transform(X_train)\n",
    "\n",
    "# cross val score/ predict for the four categories\n",
    "twt_score = cross_val_score(lr, X_train_twt, y_train, cv=4)\n",
    "print ('Tfidf Vectorizer Score:', twt_score.mean())\n"
   ]
  },
  {
   "cell_type": "code",
   "execution_count": 11,
   "metadata": {},
   "outputs": [
    {
     "name": "stderr",
     "output_type": "stream",
     "text": [
      "C:\\Users\\mrunm\\anaconda\\Anaconda3\\lib\\site-packages\\sklearn\\linear_model\\logistic.py:433: FutureWarning: Default solver will be changed to 'lbfgs' in 0.22. Specify a solver to silence this warning.\n",
      "  FutureWarning)\n",
      "C:\\Users\\mrunm\\anaconda\\Anaconda3\\lib\\site-packages\\sklearn\\linear_model\\logistic.py:460: FutureWarning: Default multi_class will be changed to 'auto' in 0.22. Specify the multi_class option to silence this warning.\n",
      "  \"this warning.\", FutureWarning)\n"
     ]
    },
    {
     "name": "stdout",
     "output_type": "stream",
     "text": [
      "Count Vectorizer Score: 0.6843394180700526\n"
     ]
    }
   ],
   "source": [
    "# initalise the count vectorizer \n",
    "cvector_twt = CountVectorizer(stop_words=stopwords.words('english'))\n",
    "# fit the training data on the model\n",
    "cvector_twt.fit(X_train)\n",
    "\n",
    "#transform training data into sparse matrix\n",
    "X_train_cvt = cvector_twt.transform(X_train)\n",
    "\n",
    "# cross val score/ predict\n",
    "cvct_score = cross_val_score(lr, X_train_cvt, y_train, cv=4 )\n",
    "print ('Count Vectorizer Score:', cvct_score.mean())"
   ]
  },
  {
   "cell_type": "code",
   "execution_count": 12,
   "metadata": {},
   "outputs": [
    {
     "data": {
      "text/plain": [
       "LogisticRegressionCV(Cs=10, class_weight=None, cv=4, dual=False,\n",
       "           fit_intercept=True, intercept_scaling=1.0, max_iter=100,\n",
       "           multi_class='warn', n_jobs=None, penalty='l1',\n",
       "           random_state=None, refit=True, scoring=None, solver='liblinear',\n",
       "           tol=0.0001, verbose=0)"
      ]
     },
     "execution_count": 12,
     "metadata": {},
     "output_type": "execute_result"
    }
   ],
   "source": [
    "# Transform features \n",
    "cvect = CountVectorizer(ngram_range=(1,3)) \n",
    "cvect.fit(X_train)\n",
    "X_train_cvect= cvect.transform(X_train)\n",
    "# fit with l1 \n",
    "model_l1 = LogisticRegressionCV(penalty = 'l1',solver='liblinear',cv=4) \n",
    "model_l1.fit(X_train_cvect, y_train)"
   ]
  },
  {
   "cell_type": "code",
   "execution_count": 14,
   "metadata": {},
   "outputs": [
    {
     "name": "stderr",
     "output_type": "stream",
     "text": [
      "C:\\Users\\mrunm\\anaconda\\Anaconda3\\lib\\site-packages\\sklearn\\linear_model\\logistic.py:460: FutureWarning: Default multi_class will be changed to 'auto' in 0.22. Specify the multi_class option to silence this warning.\n",
      "  \"this warning.\", FutureWarning)\n"
     ]
    },
    {
     "data": {
      "text/plain": [
       "LogisticRegressionCV(Cs=10, class_weight=None, cv=4, dual=False,\n",
       "           fit_intercept=True, intercept_scaling=1.0, max_iter=100,\n",
       "           multi_class='warn', n_jobs=None, penalty='l2',\n",
       "           random_state=None, refit=True, scoring=None, solver='liblinear',\n",
       "           tol=0.0001, verbose=0)"
      ]
     },
     "execution_count": 14,
     "metadata": {},
     "output_type": "execute_result"
    }
   ],
   "source": [
    "# fit with l2\n",
    "model_l2 = LogisticRegressionCV( penalty = 'l2',solver='liblinear',cv=4) \n",
    "model_l2.fit(X_train_cvect, y_train)\n"
   ]
  },
  {
   "cell_type": "code",
   "execution_count": 7,
   "metadata": {},
   "outputs": [
    {
     "name": "stdout",
     "output_type": "stream",
     "text": [
      "0        @tiniebeany climate change is an interesting h...\n",
      "1        RT @NatGeoChannel: Watch #BeforeTheFlood right...\n",
      "2        Fabulous! Leonardo #DiCaprio's film on #climat...\n",
      "3        RT @Mick_Fanning: Just watched this amazing do...\n",
      "4        RT @cnalive: Pranita Biswasi, a Lutheran from ...\n",
      "5        Unamshow awache kujinga na iko global warming ...\n",
      "6        RT @cnalive: Pranita Biswasi, a Lutheran from ...\n",
      "7        RT @CCIRiviera: Presidential Candidate #Donald...\n",
      "8        RT @AmericanIndian8: Leonardo DiCaprio's clima...\n",
      "9        #BeforeTheFlood Watch #BeforeTheFlood right he...\n",
      "10       RT @DrDeJarnett: It's vital that the public he...\n",
      "11       Bangladesh did not cause climate change, so th...\n",
      "12       RT @NatGeoChannel: Watch #BeforeTheFlood right...\n",
      "13       Now's the time: we need a strong #FTT that wor...\n",
      "14       RT @WorldResources: Reflections on Leonardo Di...\n",
      "15       RT @littoralsociety: The problem with global w...\n",
      "16       RT @NatGeoChannel: One of the easiest ways to ...\n",
      "17       RT @esquire: Watch Leo DiCaprio's climate chan...\n",
      "18       RT @ClimateCentral: Here's how climate change ...\n",
      "19       RT @NatGeoChannel: Watch #BeforeTheFlood right...\n",
      "20       @marie_dunkley arseholes couldn't predict tomo...\n",
      "21       RT @antonio5591: Florida,Trump defied Cuba emb...\n",
      "22       We must combat climate change. Indigenous ppl ...\n",
      "23       National GeographicÃ¢â‚¬â„¢s climate change do...\n",
      "24       Everyone should take the time to watch @NatGeo...\n",
      "25       BoingBoing: Watch Before the Flood, an urgent ...\n",
      "26       RT @NatGeoChannel: Watch #BeforeTheFlood right...\n",
      "27       @ShellenbergerMD @DrSimEvans @bradplumer @Jiga...\n",
      "28       @Nadeshot its like that in alot places now, it...\n",
      "29       RT @NatGeoChannel: Watch #BeforeTheFlood right...\n",
      "                               ...                        \n",
      "43913    Humanity enters $q$new era of climate change$q...\n",
      "43914    RT @Garvin1313: Too true. But of course the co...\n",
      "43915    GOP Senator On Climate Change: $q$Mankind Has ...\n",
      "43916    Trolls , Games they play &amp; Global Warming ...\n",
      "43917               RT @braintwat: https://t.co/GCF7F8B6g0\n",
      "43918    RT @mrdavidwhitley: It$q$s possible to simulta...\n",
      "43919    @tommasomatic @Noahpinion I$q$ll take the glob...\n",
      "43920    Good news! New UN Sec General serious about cl...\n",
      "43921    Climate change may cause next financial meltdo...\n",
      "43922    RT @GeorgeTakei: Too many voters buy the lies:...\n",
      "43923    @vonboski @YahooNews pfft. Global warming. Wha...\n",
      "43924    RT @caitlinmacneal: Ron Johnson says climate c...\n",
      "43925    Wow - thank you so much - that$q$s why we made...\n",
      "43926    @CNN @ABC @CBS @NBC @MSNBC @Foxnews Another RE...\n",
      "43927    RT @BernieSanders: Vermont can lead the countr...\n",
      "43928    RT @primate7: Watch Leonardo DiCaprio’s Climat...\n",
      "43929               #FactsAreTruth https://t.co/EoSSillfbE\n",
      "43930    RT @tmruppert: #ImVoting4JillBecause Climate C...\n",
      "43931    Global warming provides a great excuse for glo...\n",
      "43932    RT @nereusprogram: Climate change could cause ...\n",
      "43933    RT @nytimes: Climate change is expected to dis...\n",
      "43934    #Awareness Walls aren$q$t answer to people fle...\n",
      "43935    RT @PrisonPlanet: Americans More Scared of Clo...\n",
      "43936    #AikBaatSuniThi \\nGlobal warming has negative ...\n",
      "43937    RT @cnni: Leonardo DiCaprio: $q$Not one questi...\n",
      "43938    Dear @realDonaldTrump,\\nYeah right. Human Medi...\n",
      "43939    What will your respective parties do to preven...\n",
      "43940    RT @MikkiL: UN Poll Shows Climate Change Is th...\n",
      "43941    RT @taehbeingextra: i still can$q$t believe th...\n",
      "43942    @Likeabat77 @zachhaller \\n\\nThe wealthy + foss...\n",
      "Name: message, Length: 43943, dtype: object\n"
     ]
    }
   ],
   "source": [
    "X = df\n",
    "print(X[\"message\"])"
   ]
  },
  {
   "cell_type": "code",
   "execution_count": 7,
   "metadata": {},
   "outputs": [
    {
     "name": "stdout",
     "output_type": "stream",
     "text": [
      "0        @tiniebeany climate change is an interesting h...\n",
      "1        RT @NatGeoChannel: Watch #BeforeTheFlood right...\n",
      "2        Fabulous! Leonardo #DiCaprio's film on #climat...\n",
      "3        RT @Mick_Fanning: Just watched this amazing do...\n",
      "4        RT @cnalive: Pranita Biswasi, a Lutheran from ...\n",
      "5        Unamshow awache kujinga na iko global warming ...\n",
      "6        RT @cnalive: Pranita Biswasi, a Lutheran from ...\n",
      "7        RT @CCIRiviera: Presidential Candidate #Donald...\n",
      "8        RT @AmericanIndian8: Leonardo DiCaprio's clima...\n",
      "9        #BeforeTheFlood Watch #BeforeTheFlood right he...\n",
      "10       RT @DrDeJarnett: It's vital that the public he...\n",
      "11       Bangladesh did not cause climate change, so th...\n",
      "12       RT @NatGeoChannel: Watch #BeforeTheFlood right...\n",
      "13       Now's the time: we need a strong #FTT that wor...\n",
      "14       RT @WorldResources: Reflections on Leonardo Di...\n",
      "15       RT @littoralsociety: The problem with global w...\n",
      "16       RT @NatGeoChannel: One of the easiest ways to ...\n",
      "17       RT @esquire: Watch Leo DiCaprio's climate chan...\n",
      "18       RT @ClimateCentral: Here's how climate change ...\n",
      "19       RT @NatGeoChannel: Watch #BeforeTheFlood right...\n",
      "20       @marie_dunkley arseholes couldn't predict tomo...\n",
      "21       RT @antonio5591: Florida,Trump defied Cuba emb...\n",
      "22       We must combat climate change. Indigenous ppl ...\n",
      "23       National GeographicÃ¢â‚¬â„¢s climate change do...\n",
      "24       Everyone should take the time to watch @NatGeo...\n",
      "25       BoingBoing: Watch Before the Flood, an urgent ...\n",
      "26       RT @NatGeoChannel: Watch #BeforeTheFlood right...\n",
      "27       @ShellenbergerMD @DrSimEvans @bradplumer @Jiga...\n",
      "28       @Nadeshot its like that in alot places now, it...\n",
      "29       RT @NatGeoChannel: Watch #BeforeTheFlood right...\n",
      "                               ...                        \n",
      "43913    Humanity enters $q$new era of climate change$q...\n",
      "43914    RT @Garvin1313: Too true. But of course the co...\n",
      "43915    GOP Senator On Climate Change: $q$Mankind Has ...\n",
      "43916    Trolls , Games they play & Global Warming - ht...\n",
      "43917               RT @braintwat: https://t.co/GCF7F8B6g0\n",
      "43918    RT @mrdavidwhitley: It$q$s possible to simulta...\n",
      "43919    @tommasomatic @Noahpinion I$q$ll take the glob...\n",
      "43920    Good news! New UN Sec General serious about cl...\n",
      "43921    Climate change may cause next financial meltdo...\n",
      "43922    RT @GeorgeTakei: Too many voters buy the lies:...\n",
      "43923    @vonboski @YahooNews pfft. Global warming. Wha...\n",
      "43924    RT @caitlinmacneal: Ron Johnson says climate c...\n",
      "43925    Wow - thank you so much - that$q$s why we made...\n",
      "43926    @CNN @ABC @CBS @NBC @MSNBC @Foxnews Another RE...\n",
      "43927    RT @BernieSanders: Vermont can lead the countr...\n",
      "43928    RT @primate7: Watch Leonardo DiCaprio’s Climat...\n",
      "43929               #FactsAreTruth https://t.co/EoSSillfbE\n",
      "43930    RT @tmruppert: #ImVoting4JillBecause Climate C...\n",
      "43931    Global warming provides a great excuse for glo...\n",
      "43932    RT @nereusprogram: Climate change could cause ...\n",
      "43933    RT @nytimes: Climate change is expected to dis...\n",
      "43934    #Awareness Walls aren$q$t answer to people fle...\n",
      "43935    RT @PrisonPlanet: Americans More Scared of Clo...\n",
      "43936    #AikBaatSuniThi \\nGlobal warming has negative ...\n",
      "43937    RT @cnni: Leonardo DiCaprio: $q$Not one questi...\n",
      "43938    Dear @realDonaldTrump,\\nYeah right. Human Medi...\n",
      "43939    What will your respective parties do to preven...\n",
      "43940    RT @MikkiL: UN Poll Shows Climate Change Is th...\n",
      "43941    RT @taehbeingextra: i still can$q$t believe th...\n",
      "43942    @Likeabat77 @zachhaller \\n\\nThe wealthy + foss...\n",
      "Name: message, Length: 43943, dtype: object\n"
     ]
    }
   ],
   "source": [
    "#Beautiful Soup is a library that makes it easy to scrape information from web pages.\n",
    "#It sits atop an HTML or XML parser, providing Pythonic idioms for iterating, searching, and modifying the parse tree.\n",
    "X[\"message\"] = X[\"message\"].apply(lambda x: BeautifulSoup(x, \"lxml\").get_text())\n",
    "print(X[\"message\"])"
   ]
  },
  {
   "cell_type": "code",
   "execution_count": 14,
   "metadata": {},
   "outputs": [
    {
     "name": "stdout",
     "output_type": "stream",
     "text": [
      "0        @tiniebeany climate change is an interesting h...\n",
      "1        rt @natgeochannel: watch #beforetheflood right...\n",
      "2        fabulous! leonardo #dicaprio's film on #climat...\n",
      "3        rt @mick_fanning: just watched this amazing do...\n",
      "4        rt @cnalive: pranita biswasi, a lutheran from ...\n",
      "5        unamshow awache kujinga na iko global warming ...\n",
      "6        rt @cnalive: pranita biswasi, a lutheran from ...\n",
      "7        rt @cciriviera: presidential candidate #donald...\n",
      "8        rt @americanindian8: leonardo dicaprio's clima...\n",
      "9        #beforetheflood watch #beforetheflood right he...\n",
      "10       rt @drdejarnett: it's vital that the public he...\n",
      "11       bangladesh did not cause climate change, so th...\n",
      "12       rt @natgeochannel: watch #beforetheflood right...\n",
      "13       now's the time: we need a strong #ftt that wor...\n",
      "14       rt @worldresources: reflections on leonardo di...\n",
      "15       rt @littoralsociety: the problem with global w...\n",
      "16       rt @natgeochannel: one of the easiest ways to ...\n",
      "17       rt @esquire: watch leo dicaprio's climate chan...\n",
      "18       rt @climatecentral: here's how climate change ...\n",
      "19       rt @natgeochannel: watch #beforetheflood right...\n",
      "20       @marie_dunkley arseholes couldn't predict tomo...\n",
      "21       rt @antonio5591: florida,trump defied cuba emb...\n",
      "22       we must combat climate change. indigenous ppl ...\n",
      "23       national geographicã¢â‚¬â„¢s climate change do...\n",
      "24       everyone should take the time to watch @natgeo...\n",
      "25       boingboing: watch before the flood, an urgent ...\n",
      "26       rt @natgeochannel: watch #beforetheflood right...\n",
      "27       @shellenbergermd @drsimevans @bradplumer @jiga...\n",
      "28       @nadeshot its like that in alot places now, it...\n",
      "29       rt @natgeochannel: watch #beforetheflood right...\n",
      "                               ...                        \n",
      "43913    humanity enters $q$new era of climate change$q...\n",
      "43914    rt @garvin1313: too true. but of course the co...\n",
      "43915    gop senator on climate change: $q$mankind has ...\n",
      "43916    trolls , games they play & global warming - ht...\n",
      "43917               rt @braintwat: https://t.co/gcf7f8b6g0\n",
      "43918    rt @mrdavidwhitley: it$q$s possible to simulta...\n",
      "43919    @tommasomatic @noahpinion i$q$ll take the glob...\n",
      "43920    good news! new un sec general serious about cl...\n",
      "43921    climate change may cause next financial meltdo...\n",
      "43922    rt @georgetakei: too many voters buy the lies:...\n",
      "43923    @vonboski @yahoonews pfft. global warming. wha...\n",
      "43924    rt @caitlinmacneal: ron johnson says climate c...\n",
      "43925    wow - thank you so much - that$q$s why we made...\n",
      "43926    @cnn @abc @cbs @nbc @msnbc @foxnews another re...\n",
      "43927    rt @berniesanders: vermont can lead the countr...\n",
      "43928    rt @primate7: watch leonardo dicaprio’s climat...\n",
      "43929               #factsaretruth https://t.co/eossillfbe\n",
      "43930    rt @tmruppert: #imvoting4jillbecause climate c...\n",
      "43931    global warming provides a great excuse for glo...\n",
      "43932    rt @nereusprogram: climate change could cause ...\n",
      "43933    rt @nytimes: climate change is expected to dis...\n",
      "43934    #awareness walls aren$q$t answer to people fle...\n",
      "43935    rt @prisonplanet: americans more scared of clo...\n",
      "43936    #aikbaatsunithi \\nglobal warming has negative ...\n",
      "43937    rt @cnni: leonardo dicaprio: $q$not one questi...\n",
      "43938    dear @realdonaldtrump,\\nyeah right. human medi...\n",
      "43939    what will your respective parties do to preven...\n",
      "43940    rt @mikkil: un poll shows climate change is th...\n",
      "43941    rt @taehbeingextra: i still can$q$t believe th...\n",
      "43942    @likeabat77 @zachhaller \\n\\nthe wealthy + foss...\n",
      "Name: message, Length: 43943, dtype: object\n"
     ]
    }
   ],
   "source": [
    "X[\"message\"] = X[\"message\"].apply(lambda x: x.lower())\n",
    "print(X[\"message\"])"
   ]
  },
  {
   "cell_type": "code",
   "execution_count": 8,
   "metadata": {},
   "outputs": [
    {
     "name": "stdout",
     "output_type": "stream",
     "text": [
      "0         tiniebeany climate change is an interesting h...\n",
      "1        RT  NatGeoChannel  Watch  BeforeTheFlood right...\n",
      "2        Fabulous  Leonardo  DiCaprio s film on  climat...\n",
      "3        RT  Mick Fanning  Just watched this amazing do...\n",
      "4        RT  cnalive  Pranita Biswasi  a Lutheran from ...\n",
      "5        Unamshow awache kujinga na iko global warming ...\n",
      "6        RT  cnalive  Pranita Biswasi  a Lutheran from ...\n",
      "7        RT  CCIRiviera  Presidential Candidate  Donald...\n",
      "8        RT  AmericanIndian   Leonardo DiCaprio s clima...\n",
      "9         BeforeTheFlood Watch  BeforeTheFlood right he...\n",
      "10       RT  DrDeJarnett  It s vital that the public he...\n",
      "11       Bangladesh did not cause climate change  so th...\n",
      "12       RT  NatGeoChannel  Watch  BeforeTheFlood right...\n",
      "13       Now s the time  we need a strong  FTT that wor...\n",
      "14       RT  WorldResources  Reflections on Leonardo Di...\n",
      "15       RT  littoralsociety  The problem with global w...\n",
      "16       RT  NatGeoChannel  One of the easiest ways to ...\n",
      "17       RT  esquire  Watch Leo DiCaprio s climate chan...\n",
      "18       RT  ClimateCentral  Here s how climate change ...\n",
      "19       RT  NatGeoChannel  Watch  BeforeTheFlood right...\n",
      "20        marie dunkley arseholes couldn t predict tomo...\n",
      "21       RT  antonio      Florida Trump defied Cuba emb...\n",
      "22       We must combat climate change  Indigenous ppl ...\n",
      "23       National Geographic        s climate change do...\n",
      "24       Everyone should take the time to watch  NatGeo...\n",
      "25       BoingBoing  Watch Before the Flood  an urgent ...\n",
      "26       RT  NatGeoChannel  Watch  BeforeTheFlood right...\n",
      "27        ShellenbergerMD  DrSimEvans  bradplumer  Jiga...\n",
      "28        Nadeshot its like that in alot places now  it...\n",
      "29       RT  NatGeoChannel  Watch  BeforeTheFlood right...\n",
      "                               ...                        \n",
      "43913    Humanity enters  q new era of climate change q...\n",
      "43914    RT  Garvin      Too true  But of course the co...\n",
      "43915    GOP Senator On Climate Change   q Mankind Has ...\n",
      "43916    Trolls   Games they play   Global Warming   ht...\n",
      "43917               RT  braintwat  https   t co GCF F B g \n",
      "43918    RT  mrdavidwhitley  It q s possible to simulta...\n",
      "43919     tommasomatic  Noahpinion I q ll take the glob...\n",
      "43920    Good news  New UN Sec General serious about cl...\n",
      "43921    Climate change may cause next financial meltdo...\n",
      "43922    RT  GeorgeTakei  Too many voters buy the lies ...\n",
      "43923     vonboski  YahooNews pfft  Global warming  Wha...\n",
      "43924    RT  caitlinmacneal  Ron Johnson says climate c...\n",
      "43925    Wow   thank you so much   that q s why we made...\n",
      "43926     CNN  ABC  CBS  NBC  MSNBC  Foxnews Another RE...\n",
      "43927    RT  BernieSanders  Vermont can lead the countr...\n",
      "43928    RT  primate   Watch Leonardo DiCaprio s Climat...\n",
      "43929                FactsAreTruth https   t co EoSSillfbE\n",
      "43930    RT  tmruppert   ImVoting JillBecause Climate C...\n",
      "43931    Global warming provides a great excuse for glo...\n",
      "43932    RT  nereusprogram  Climate change could cause ...\n",
      "43933    RT  nytimes  Climate change is expected to dis...\n",
      "43934     Awareness Walls aren q t answer to people fle...\n",
      "43935    RT  PrisonPlanet  Americans More Scared of Clo...\n",
      "43936     AikBaatSuniThi  Global warming has negative e...\n",
      "43937    RT  cnni  Leonardo DiCaprio   q Not one questi...\n",
      "43938    Dear  realDonaldTrump  Yeah right  Human Media...\n",
      "43939    What will your respective parties do to preven...\n",
      "43940    RT  MikkiL  UN Poll Shows Climate Change Is th...\n",
      "43941    RT  taehbeingextra  i still can q t believe th...\n",
      "43942     Likeabat    zachhaller   The wealthy   fossil...\n",
      "Name: message, Length: 43943, dtype: object\n"
     ]
    }
   ],
   "source": [
    "#Regular expression\n",
    "#Return the string obtained by replacing the leftmost non-overlapping occurrences of pattern in string by the replacement repl\n",
    "#replace whatever except alphabets to space\n",
    "X[\"message\"] = X[\"message\"].apply(lambda x: re.sub(\"[^a-zA-Z]\", \" \", x))\n",
    "print(X[\"message\"])"
   ]
  },
  {
   "cell_type": "code",
   "execution_count": 9,
   "metadata": {},
   "outputs": [
    {
     "name": "stdout",
     "output_type": "stream",
     "text": [
      "0         tiniebeany climate change is an interesting h...\n",
      "1        RT NatGeoChannel Watch BeforeTheFlood right he...\n",
      "2        Fabulous Leonardo DiCaprio s film on climate c...\n",
      "3        RT Mick Fanning Just watched this amazing docu...\n",
      "4        RT cnalive Pranita Biswasi a Lutheran from Odi...\n",
      "5        Unamshow awache kujinga na iko global warming ...\n",
      "6        RT cnalive Pranita Biswasi a Lutheran from Odi...\n",
      "7        RT CCIRiviera Presidential Candidate DonaldTru...\n",
      "8        RT AmericanIndian Leonardo DiCaprio s climate ...\n",
      "9         BeforeTheFlood Watch BeforeTheFlood right her...\n",
      "10       RT DrDeJarnett It s vital that the public heal...\n",
      "11       Bangladesh did not cause climate change so the...\n",
      "12       RT NatGeoChannel Watch BeforeTheFlood right he...\n",
      "13       Now s the time we need a strong FTT that works...\n",
      "14       RT WorldResources Reflections on Leonardo DiCa...\n",
      "15       RT littoralsociety The problem with global war...\n",
      "16       RT NatGeoChannel One of the easiest ways to he...\n",
      "17       RT esquire Watch Leo DiCaprio s climate change...\n",
      "18       RT ClimateCentral Here s how climate change wi...\n",
      "19       RT NatGeoChannel Watch BeforeTheFlood right he...\n",
      "20        marie dunkley arseholes couldn t predict tomo...\n",
      "21       RT antonio Florida Trump defied Cuba embargo l...\n",
      "22       We must combat climate change Indigenous ppl a...\n",
      "23       National Geographic s climate change documenta...\n",
      "24       Everyone should take the time to watch NatGeo ...\n",
      "25       BoingBoing Watch Before the Flood an urgent ca...\n",
      "26       RT NatGeoChannel Watch BeforeTheFlood right he...\n",
      "27        ShellenbergerMD DrSimEvans bradplumer JigarSh...\n",
      "28        Nadeshot its like that in alot places now it ...\n",
      "29       RT NatGeoChannel Watch BeforeTheFlood right he...\n",
      "                               ...                        \n",
      "43913    Humanity enters q new era of climate change q ...\n",
      "43914    RT Garvin Too true But of course the corollary...\n",
      "43915    GOP Senator On Climate Change q Mankind Has Ac...\n",
      "43916    Trolls Games they play Global Warming https t ...\n",
      "43917                   RT braintwat https t co GCF F B g \n",
      "43918    RT mrdavidwhitley It q s possible to simultane...\n",
      "43919     tommasomatic Noahpinion I q ll take the globa...\n",
      "43920    Good news New UN Sec General serious about cli...\n",
      "43921    Climate change may cause next financial meltdo...\n",
      "43922    RT GeorgeTakei Too many voters buy the lies Ob...\n",
      "43923     vonboski YahooNews pfft Global warming What a...\n",
      "43924    RT caitlinmacneal Ron Johnson says climate cha...\n",
      "43925    Wow thank you so much that q s why we made No ...\n",
      "43926     CNN ABC CBS NBC MSNBC Foxnews Another REAL sc...\n",
      "43927    RT BernieSanders Vermont can lead the country ...\n",
      "43928    RT primate Watch Leonardo DiCaprio s Climate C...\n",
      "43929                  FactsAreTruth https t co EoSSillfbE\n",
      "43930    RT tmruppert ImVoting JillBecause Climate Chan...\n",
      "43931    Global warming provides a great excuse for glo...\n",
      "43932    RT nereusprogram Climate change could cause fi...\n",
      "43933    RT nytimes Climate change is expected to displ...\n",
      "43934     Awareness Walls aren q t answer to people fle...\n",
      "43935    RT PrisonPlanet Americans More Scared of Clown...\n",
      "43936     AikBaatSuniThi Global warming has negative ef...\n",
      "43937    RT cnni Leonardo DiCaprio q Not one question a...\n",
      "43938    Dear realDonaldTrump Yeah right Human Mediated...\n",
      "43939    What will your respective parties do to preven...\n",
      "43940    RT MikkiL UN Poll Shows Climate Change Is the ...\n",
      "43941    RT taehbeingextra i still can q t believe this...\n",
      "43942     Likeabat zachhaller The wealthy fossil fuel I...\n",
      "Name: message, Length: 43943, dtype: object\n"
     ]
    }
   ],
   "source": [
    "#replace tab with space\n",
    "X[\"message\"] = X[\"message\"].apply(lambda x: re.sub(\"\\s+\", \" \", x))\n",
    "print(X[\"message\"])"
   ]
  },
  {
   "cell_type": "code",
   "execution_count": 18,
   "metadata": {},
   "outputs": [
    {
     "data": {
      "text/html": [
       "<div>\n",
       "<style scoped>\n",
       "    .dataframe tbody tr th:only-of-type {\n",
       "        vertical-align: middle;\n",
       "    }\n",
       "\n",
       "    .dataframe tbody tr th {\n",
       "        vertical-align: top;\n",
       "    }\n",
       "\n",
       "    .dataframe thead th {\n",
       "        text-align: right;\n",
       "    }\n",
       "</style>\n",
       "<table border=\"1\" class=\"dataframe\">\n",
       "  <thead>\n",
       "    <tr style=\"text-align: right;\">\n",
       "      <th></th>\n",
       "      <th>act</th>\n",
       "      <th>action</th>\n",
       "      <th>action climate</th>\n",
       "      <th>action climate change</th>\n",
       "      <th>actually</th>\n",
       "      <th>address</th>\n",
       "      <th>address climate</th>\n",
       "      <th>address climate change</th>\n",
       "      <th>administration</th>\n",
       "      <th>agree</th>\n",
       "      <th>...</th>\n",
       "      <th>women</th>\n",
       "      <th>won</th>\n",
       "      <th>work</th>\n",
       "      <th>world</th>\n",
       "      <th>worse</th>\n",
       "      <th>worst</th>\n",
       "      <th>wrong</th>\n",
       "      <th>year</th>\n",
       "      <th>years</th>\n",
       "      <th>yes</th>\n",
       "    </tr>\n",
       "  </thead>\n",
       "  <tbody>\n",
       "    <tr>\n",
       "      <th>0</th>\n",
       "      <td>0.0</td>\n",
       "      <td>0.0</td>\n",
       "      <td>0.0</td>\n",
       "      <td>0.0</td>\n",
       "      <td>0.0</td>\n",
       "      <td>0.0</td>\n",
       "      <td>0.0</td>\n",
       "      <td>0.0</td>\n",
       "      <td>0.0</td>\n",
       "      <td>0.0</td>\n",
       "      <td>...</td>\n",
       "      <td>0.0</td>\n",
       "      <td>0.0</td>\n",
       "      <td>0.0</td>\n",
       "      <td>0.000000</td>\n",
       "      <td>0.0</td>\n",
       "      <td>0.0</td>\n",
       "      <td>0.0</td>\n",
       "      <td>0.0</td>\n",
       "      <td>0.0</td>\n",
       "      <td>0.59888</td>\n",
       "    </tr>\n",
       "    <tr>\n",
       "      <th>1</th>\n",
       "      <td>0.0</td>\n",
       "      <td>0.0</td>\n",
       "      <td>0.0</td>\n",
       "      <td>0.0</td>\n",
       "      <td>0.0</td>\n",
       "      <td>0.0</td>\n",
       "      <td>0.0</td>\n",
       "      <td>0.0</td>\n",
       "      <td>0.0</td>\n",
       "      <td>0.0</td>\n",
       "      <td>...</td>\n",
       "      <td>0.0</td>\n",
       "      <td>0.0</td>\n",
       "      <td>0.0</td>\n",
       "      <td>0.223247</td>\n",
       "      <td>0.0</td>\n",
       "      <td>0.0</td>\n",
       "      <td>0.0</td>\n",
       "      <td>0.0</td>\n",
       "      <td>0.0</td>\n",
       "      <td>0.00000</td>\n",
       "    </tr>\n",
       "    <tr>\n",
       "      <th>2</th>\n",
       "      <td>0.0</td>\n",
       "      <td>0.0</td>\n",
       "      <td>0.0</td>\n",
       "      <td>0.0</td>\n",
       "      <td>0.0</td>\n",
       "      <td>0.0</td>\n",
       "      <td>0.0</td>\n",
       "      <td>0.0</td>\n",
       "      <td>0.0</td>\n",
       "      <td>0.0</td>\n",
       "      <td>...</td>\n",
       "      <td>0.0</td>\n",
       "      <td>0.0</td>\n",
       "      <td>0.0</td>\n",
       "      <td>0.000000</td>\n",
       "      <td>0.0</td>\n",
       "      <td>0.0</td>\n",
       "      <td>0.0</td>\n",
       "      <td>0.0</td>\n",
       "      <td>0.0</td>\n",
       "      <td>0.00000</td>\n",
       "    </tr>\n",
       "    <tr>\n",
       "      <th>3</th>\n",
       "      <td>0.0</td>\n",
       "      <td>0.0</td>\n",
       "      <td>0.0</td>\n",
       "      <td>0.0</td>\n",
       "      <td>0.0</td>\n",
       "      <td>0.0</td>\n",
       "      <td>0.0</td>\n",
       "      <td>0.0</td>\n",
       "      <td>0.0</td>\n",
       "      <td>0.0</td>\n",
       "      <td>...</td>\n",
       "      <td>0.0</td>\n",
       "      <td>0.0</td>\n",
       "      <td>0.0</td>\n",
       "      <td>0.000000</td>\n",
       "      <td>0.0</td>\n",
       "      <td>0.0</td>\n",
       "      <td>0.0</td>\n",
       "      <td>0.0</td>\n",
       "      <td>0.0</td>\n",
       "      <td>0.00000</td>\n",
       "    </tr>\n",
       "    <tr>\n",
       "      <th>4</th>\n",
       "      <td>0.0</td>\n",
       "      <td>0.0</td>\n",
       "      <td>0.0</td>\n",
       "      <td>0.0</td>\n",
       "      <td>0.0</td>\n",
       "      <td>0.0</td>\n",
       "      <td>0.0</td>\n",
       "      <td>0.0</td>\n",
       "      <td>0.0</td>\n",
       "      <td>0.0</td>\n",
       "      <td>...</td>\n",
       "      <td>0.0</td>\n",
       "      <td>0.0</td>\n",
       "      <td>0.0</td>\n",
       "      <td>0.000000</td>\n",
       "      <td>0.0</td>\n",
       "      <td>0.0</td>\n",
       "      <td>0.0</td>\n",
       "      <td>0.0</td>\n",
       "      <td>0.0</td>\n",
       "      <td>0.00000</td>\n",
       "    </tr>\n",
       "  </tbody>\n",
       "</table>\n",
       "<p>5 rows × 400 columns</p>\n",
       "</div>"
      ],
      "text/plain": [
       "   act  action  action climate  action climate change  actually  address  \\\n",
       "0  0.0     0.0             0.0                    0.0       0.0      0.0   \n",
       "1  0.0     0.0             0.0                    0.0       0.0      0.0   \n",
       "2  0.0     0.0             0.0                    0.0       0.0      0.0   \n",
       "3  0.0     0.0             0.0                    0.0       0.0      0.0   \n",
       "4  0.0     0.0             0.0                    0.0       0.0      0.0   \n",
       "\n",
       "   address climate  address climate change  administration  agree   ...     \\\n",
       "0              0.0                     0.0             0.0    0.0   ...      \n",
       "1              0.0                     0.0             0.0    0.0   ...      \n",
       "2              0.0                     0.0             0.0    0.0   ...      \n",
       "3              0.0                     0.0             0.0    0.0   ...      \n",
       "4              0.0                     0.0             0.0    0.0   ...      \n",
       "\n",
       "   women  won  work     world  worse  worst  wrong  year  years      yes  \n",
       "0    0.0  0.0   0.0  0.000000    0.0    0.0    0.0   0.0    0.0  0.59888  \n",
       "1    0.0  0.0   0.0  0.223247    0.0    0.0    0.0   0.0    0.0  0.00000  \n",
       "2    0.0  0.0   0.0  0.000000    0.0    0.0    0.0   0.0    0.0  0.00000  \n",
       "3    0.0  0.0   0.0  0.000000    0.0    0.0    0.0   0.0    0.0  0.00000  \n",
       "4    0.0  0.0   0.0  0.000000    0.0    0.0    0.0   0.0    0.0  0.00000  \n",
       "\n",
       "[5 rows x 400 columns]"
      ]
     },
     "execution_count": 18,
     "metadata": {},
     "output_type": "execute_result"
    }
   ],
   "source": [
    "# Analyzing the dataset by building a vectorizer using tfidf\n",
    "vect_tweet= TfidfVectorizer(stop_words=ENGLISH_STOP_WORDS, ngram_range=(1, 3), max_features=400, token_pattern=r'\\b[^\\d\\W][^\\d\\W]+\\b').fit(X.message)\n",
    "# Create sparse matrix from the vectorizer\n",
    "X_t = vect_tweet.transform(X.message)\n",
    "\n",
    "# Creating a DataFrame\n",
    "reviews_transformed = pd.DataFrame(X_t.todense(), index=X.index, columns=vect_tweet.get_feature_names())\n",
    "reviews_transformed.head()"
   ]
  },
  {
   "cell_type": "code",
   "execution_count": 10,
   "metadata": {},
   "outputs": [
    {
     "name": "stdout",
     "output_type": "stream",
     "text": [
      "[0.60745494 0.57570999 0.53697003]\n"
     ]
    }
   ],
   "source": [
    "y = X[\"sentiment\"]\n",
    "X = X[\"message\"]\n",
    "\n",
    "# define stop words\n",
    "stopwords = stopwords.words('english')\n",
    "\n",
    "#remove stopwords\n",
    "vectorizer = CountVectorizer(stop_words=stopwords)\n",
    "\n",
    "X = vectorizer.fit_transform(X)\n",
    "# running a random forest on the dataset by removing stopwords using the countverctorizer\n",
    "model = RandomForestClassifier(n_estimators=5, n_jobs=-1, class_weight='balanced', random_state=0)\n",
    "\n",
    "#Evaluate a score by cross-validation\n",
    "print(cross_val_score(model, X, y, cv=3))"
   ]
  },
  {
   "cell_type": "code",
   "execution_count": null,
   "metadata": {},
   "outputs": [],
   "source": []
  }
 ],
 "metadata": {
  "kernelspec": {
   "display_name": "Python 3",
   "language": "python",
   "name": "python3"
  },
  "language_info": {
   "codemirror_mode": {
    "name": "ipython",
    "version": 3
   },
   "file_extension": ".py",
   "mimetype": "text/x-python",
   "name": "python",
   "nbconvert_exporter": "python",
   "pygments_lexer": "ipython3",
   "version": "3.7.1"
  }
 },
 "nbformat": 4,
 "nbformat_minor": 2
}
