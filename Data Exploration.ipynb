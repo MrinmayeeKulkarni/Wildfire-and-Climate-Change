{
 "cells": [
  {
   "cell_type": "code",
   "execution_count": 1,
   "metadata": {},
   "outputs": [],
   "source": [
    "import pandas as pd\n",
    "from sqlalchemy import create_engine\n",
    "import matplotlib.pyplot as plt\n",
    "import seaborn as sns\n",
    "import folium\n",
    "from folium.plugins import HeatMap\n",
    "import numpy as np\n",
    "from sklearn import linear_model"
   ]
  },
  {
   "cell_type": "code",
   "execution_count": 2,
   "metadata": {},
   "outputs": [],
   "source": [
    "%matplotlib inline\n",
    "from pandas.plotting import scatter_matrix\n",
    "\n",
    "# Packages for checking assumptions\n",
    "from scipy import stats as stats\n",
    "from sklearn.model_selection import train_test_split, cross_val_score\n",
    "from sklearn.linear_model import LinearRegression\n",
    "from sklearn.metrics import mean_squared_error, make_scorer\n",
    "import statsmodels.formula.api as sm\n",
    "\n",
    "# Set jupyter notebook preferences\n",
    "# the command below means that the output of multiple commands in a cell will be output at once.\n",
    "from IPython.core.interactiveshell import InteractiveShell\n",
    "InteractiveShell.ast_node_interactivity = \"all\"\n",
    "# the command below tells jupyter to display up to 100 columns, this keeps everything visible\n",
    "pd.set_option('display.max_columns', 100)\n",
    "pd.set_option('expand_frame_repr', True)"
   ]
  },
  {
   "cell_type": "code",
   "execution_count": 3,
   "metadata": {},
   "outputs": [],
   "source": [
    "# Creating Engine\n",
    "\n",
    "database_path=\"data/wildfires.sqlite\"\n",
    "engine = create_engine(f\"sqlite:///{database_path}\")\n",
    "conn = engine.connect()\n"
   ]
  },
  {
   "cell_type": "code",
   "execution_count": 19,
   "metadata": {},
   "outputs": [],
   "source": [
    "# Query All Records in the the Database\n",
    "data = pd.read_sql(\"SELECT * FROM wildfirecleaned\", conn)"
   ]
  },
  {
   "cell_type": "code",
   "execution_count": 5,
   "metadata": {},
   "outputs": [
    {
     "data": {
      "text/html": [
       "<div>\n",
       "<style scoped>\n",
       "    .dataframe tbody tr th:only-of-type {\n",
       "        vertical-align: middle;\n",
       "    }\n",
       "\n",
       "    .dataframe tbody tr th {\n",
       "        vertical-align: top;\n",
       "    }\n",
       "\n",
       "    .dataframe thead th {\n",
       "        text-align: right;\n",
       "    }\n",
       "</style>\n",
       "<table border=\"1\" class=\"dataframe\">\n",
       "  <thead>\n",
       "    <tr style=\"text-align: right;\">\n",
       "      <th></th>\n",
       "      <th>UNIT_NAME</th>\n",
       "      <th>FIRE_YEAR</th>\n",
       "      <th>DISCOVERY_DOY</th>\n",
       "      <th>CAUSE_DESCR</th>\n",
       "      <th>CONT_DOY</th>\n",
       "      <th>FIRE_SIZE</th>\n",
       "      <th>FIRE_CLASS</th>\n",
       "      <th>LATITUDE</th>\n",
       "      <th>LONGITUDE</th>\n",
       "      <th>STATE</th>\n",
       "      <th>Shape</th>\n",
       "      <th>DISC_DATE</th>\n",
       "      <th>CONTAIN_DATE</th>\n",
       "      <th>TOTAL DAYS</th>\n",
       "    </tr>\n",
       "  </thead>\n",
       "  <tbody>\n",
       "    <tr>\n",
       "      <th>0</th>\n",
       "      <td>Plumas National Forest</td>\n",
       "      <td>2005</td>\n",
       "      <td>33</td>\n",
       "      <td>Miscellaneous</td>\n",
       "      <td>33.0</td>\n",
       "      <td>0.10</td>\n",
       "      <td>A</td>\n",
       "      <td>40.036944</td>\n",
       "      <td>-121.005833</td>\n",
       "      <td>CA</td>\n",
       "      <td>b'\\x00\\x01\\xad\\x10\\x00\\x00\\xe8d\\xc2\\x92_@^\\xc0...</td>\n",
       "      <td>2005-02-02 00:00:00</td>\n",
       "      <td>2005-02-02 00:00:00</td>\n",
       "      <td>0.0</td>\n",
       "    </tr>\n",
       "    <tr>\n",
       "      <th>1</th>\n",
       "      <td>Eldorado National Forest</td>\n",
       "      <td>2004</td>\n",
       "      <td>133</td>\n",
       "      <td>Lightning</td>\n",
       "      <td>133.0</td>\n",
       "      <td>0.25</td>\n",
       "      <td>A</td>\n",
       "      <td>38.933056</td>\n",
       "      <td>-120.404444</td>\n",
       "      <td>CA</td>\n",
       "      <td>b'\\x00\\x01\\xad\\x10\\x00\\x00T\\xb6\\xeej\\xe2\\x19^\\...</td>\n",
       "      <td>2004-05-12 00:00:00</td>\n",
       "      <td>2004-05-12 00:00:00</td>\n",
       "      <td>0.0</td>\n",
       "    </tr>\n",
       "    <tr>\n",
       "      <th>2</th>\n",
       "      <td>Eldorado National Forest</td>\n",
       "      <td>2004</td>\n",
       "      <td>152</td>\n",
       "      <td>Debris Burning</td>\n",
       "      <td>152.0</td>\n",
       "      <td>0.10</td>\n",
       "      <td>A</td>\n",
       "      <td>38.984167</td>\n",
       "      <td>-120.735556</td>\n",
       "      <td>CA</td>\n",
       "      <td>b'\\x00\\x01\\xad\\x10\\x00\\x00\\xd0\\xa5\\xa0W\\x13/^\\...</td>\n",
       "      <td>2004-05-31 00:00:00</td>\n",
       "      <td>2004-05-31 00:00:00</td>\n",
       "      <td>0.0</td>\n",
       "    </tr>\n",
       "    <tr>\n",
       "      <th>3</th>\n",
       "      <td>Eldorado National Forest</td>\n",
       "      <td>2004</td>\n",
       "      <td>180</td>\n",
       "      <td>Lightning</td>\n",
       "      <td>185.0</td>\n",
       "      <td>0.10</td>\n",
       "      <td>A</td>\n",
       "      <td>38.559167</td>\n",
       "      <td>-119.913333</td>\n",
       "      <td>CA</td>\n",
       "      <td>b'\\x00\\x01\\xad\\x10\\x00\\x00\\x94\\xac\\xa3\\rt\\xfa]...</td>\n",
       "      <td>2004-06-28 00:00:00</td>\n",
       "      <td>2004-07-03 00:00:00</td>\n",
       "      <td>5.0</td>\n",
       "    </tr>\n",
       "    <tr>\n",
       "      <th>4</th>\n",
       "      <td>Eldorado National Forest</td>\n",
       "      <td>2004</td>\n",
       "      <td>180</td>\n",
       "      <td>Lightning</td>\n",
       "      <td>185.0</td>\n",
       "      <td>0.10</td>\n",
       "      <td>A</td>\n",
       "      <td>38.559167</td>\n",
       "      <td>-119.933056</td>\n",
       "      <td>CA</td>\n",
       "      <td>b'\\x00\\x01\\xad\\x10\\x00\\x00@\\xe3\\xaa.\\xb7\\xfb]\\...</td>\n",
       "      <td>2004-06-28 00:00:00</td>\n",
       "      <td>2004-07-03 00:00:00</td>\n",
       "      <td>5.0</td>\n",
       "    </tr>\n",
       "  </tbody>\n",
       "</table>\n",
       "</div>"
      ],
      "text/plain": [
       "                  UNIT_NAME  FIRE_YEAR  DISCOVERY_DOY     CAUSE_DESCR  \\\n",
       "0    Plumas National Forest       2005             33   Miscellaneous   \n",
       "1  Eldorado National Forest       2004            133       Lightning   \n",
       "2  Eldorado National Forest       2004            152  Debris Burning   \n",
       "3  Eldorado National Forest       2004            180       Lightning   \n",
       "4  Eldorado National Forest       2004            180       Lightning   \n",
       "\n",
       "   CONT_DOY  FIRE_SIZE FIRE_CLASS   LATITUDE   LONGITUDE STATE  \\\n",
       "0      33.0       0.10          A  40.036944 -121.005833    CA   \n",
       "1     133.0       0.25          A  38.933056 -120.404444    CA   \n",
       "2     152.0       0.10          A  38.984167 -120.735556    CA   \n",
       "3     185.0       0.10          A  38.559167 -119.913333    CA   \n",
       "4     185.0       0.10          A  38.559167 -119.933056    CA   \n",
       "\n",
       "                                               Shape            DISC_DATE  \\\n",
       "0  b'\\x00\\x01\\xad\\x10\\x00\\x00\\xe8d\\xc2\\x92_@^\\xc0...  2005-02-02 00:00:00   \n",
       "1  b'\\x00\\x01\\xad\\x10\\x00\\x00T\\xb6\\xeej\\xe2\\x19^\\...  2004-05-12 00:00:00   \n",
       "2  b'\\x00\\x01\\xad\\x10\\x00\\x00\\xd0\\xa5\\xa0W\\x13/^\\...  2004-05-31 00:00:00   \n",
       "3  b'\\x00\\x01\\xad\\x10\\x00\\x00\\x94\\xac\\xa3\\rt\\xfa]...  2004-06-28 00:00:00   \n",
       "4  b'\\x00\\x01\\xad\\x10\\x00\\x00@\\xe3\\xaa.\\xb7\\xfb]\\...  2004-06-28 00:00:00   \n",
       "\n",
       "          CONTAIN_DATE  TOTAL DAYS  \n",
       "0  2005-02-02 00:00:00         0.0  \n",
       "1  2004-05-12 00:00:00         0.0  \n",
       "2  2004-05-31 00:00:00         0.0  \n",
       "3  2004-07-03 00:00:00         5.0  \n",
       "4  2004-07-03 00:00:00         5.0  "
      ]
     },
     "execution_count": 5,
     "metadata": {},
     "output_type": "execute_result"
    }
   ],
   "source": [
    "data.head()\n"
   ]
  },
  {
   "cell_type": "code",
   "execution_count": 6,
   "metadata": {},
   "outputs": [
    {
     "data": {
      "text/plain": [
       "(1880465, 14)"
      ]
     },
     "execution_count": 6,
     "metadata": {},
     "output_type": "execute_result"
    }
   ],
   "source": [
    "data.shape"
   ]
  },
  {
   "cell_type": "code",
   "execution_count": 7,
   "metadata": {},
   "outputs": [
    {
     "data": {
      "text/plain": [
       "<matplotlib.axes._subplots.AxesSubplot at 0x1eb8512f470>"
      ]
     },
     "execution_count": 7,
     "metadata": {},
     "output_type": "execute_result"
    },
    {
     "data": {
      "image/png": "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\n",
      "text/plain": [
       "<Figure size 432x288 with 1 Axes>"
      ]
     },
     "metadata": {
      "needs_background": "light"
     },
     "output_type": "display_data"
    }
   ],
   "source": [
    "data['STATE'].value_counts().head(n=10).plot(kind='bar',color='green')\n",
    "plt.show()"
   ]
  },
  {
   "cell_type": "code",
   "execution_count": 5,
   "metadata": {},
   "outputs": [
    {
     "data": {
      "image/png": "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\n",
      "text/plain": [
       "<Figure size 720x720 with 1 Axes>"
      ]
     },
     "metadata": {
      "needs_background": "light"
     },
     "output_type": "display_data"
    }
   ],
   "source": [
    "df_year = data[['FIRE_YEAR']]\n",
    "df_year['FIRE_YEAR'].value_counts(sort=False).plot(kind=\"line\",marker='*',figsize=(10,10), color='r', linewidth=3.3)\n",
    "plt.title('Frequency of Wildfires Over Time')\n",
    "plt.xlabel('Year')\n",
    "plt.ylabel('Number of Instances')\n",
    "plt.show()"
   ]
  },
  {
   "cell_type": "code",
   "execution_count": 6,
   "metadata": {},
   "outputs": [
    {
     "data": {
      "text/plain": [
<<<<<<< HEAD
       "<matplotlib.axes._subplots.AxesSubplot at 0x280d3d9b358>"
=======
       "<matplotlib.axes._subplots.AxesSubplot at 0x27095bcca20>"
>>>>>>> 6848bbdfed49e3b7f78057ae9aea192a7c28f40c
      ]
     },
     "execution_count": 6,
     "metadata": {},
     "output_type": "execute_result"
    },
    {
     "data": {
      "image/png": "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\n",
      "text/plain": [
       "<Figure size 432x288 with 1 Axes>"
      ]
     },
     "metadata": {
      "needs_background": "light"
     },
     "output_type": "display_data"
    }
   ],
   "source": [
    "data[\"CAUSE_DESCR\"].value_counts().plot(kind=\"bar\")"
   ]
  },
  {
   "cell_type": "code",
   "execution_count": 18,
   "metadata": {},
   "outputs": [
    {
     "data": {
      "text/plain": [
       "<matplotlib.axes._subplots.AxesSubplot at 0x1ebb999ca90>"
      ]
     },
     "execution_count": 18,
     "metadata": {},
     "output_type": "execute_result"
    },
    {
     "data": {
      "image/png": "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\n",
      "text/plain": [
       "<Figure size 432x288 with 1 Axes>"
      ]
     },
     "metadata": {
      "needs_background": "light"
     },
     "output_type": "display_data"
    }
   ],
   "source": [
    "data_Burning = data[data['CAUSE_DESCR']=='Debris Burning']\n",
    "data_Burning['FIRE_CLASS'].value_counts().plot(kind='bar',color='coral')\n",
    "plt.show()"
   ]
  },
  {
   "cell_type": "code",
   "execution_count": 7,
   "metadata": {
    "scrolled": true
   },
   "outputs": [
    {
     "data": {
      "text/plain": [
<<<<<<< HEAD
       "<matplotlib.axes._subplots.AxesSubplot at 0x280d90d6e48>"
=======
       "<matplotlib.axes._subplots.AxesSubplot at 0x270adf16320>"
>>>>>>> 6848bbdfed49e3b7f78057ae9aea192a7c28f40c
      ]
     },
     "execution_count": 7,
     "metadata": {},
     "output_type": "execute_result"
    },
    {
     "data": {
      "image/png": "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\n",
      "text/plain": [
       "<Figure size 432x288 with 1 Axes>"
      ]
     },
     "metadata": {
      "needs_background": "light"
     },
     "output_type": "display_data"
    }
   ],
   "source": [
    "size_per_year=data.groupby(['FIRE_YEAR','FIRE_SIZE']).size().reset_index().groupby('FIRE_YEAR')[[0]].max()\n",
    "size_per_year.plot()"
   ]
  },
  {
   "cell_type": "code",
<<<<<<< HEAD
   "execution_count": 17,
   "metadata": {},
   "outputs": [
    {
     "data": {
      "text/plain": [
       "<matplotlib.axes._subplots.AxesSubplot at 0x2139d277c18>"
      ]
     },
     "execution_count": 17,
     "metadata": {},
     "output_type": "execute_result"
    },
    {
     "data": {
      "image/png": "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\n",
      "text/plain": [
       "<Figure size 432x288 with 1 Axes>"
      ]
     },
     "metadata": {
      "needs_background": "light"
     },
     "output_type": "display_data"
    }
   ],
   "source": [
    "data.boxplot(\"LATITUDE\")"
   ]
  },
  {
   "cell_type": "code",
   "execution_count": 9,
   "metadata": {},
   "outputs": [
    {
     "data": {
      "text/plain": [
       "array([[<matplotlib.axes._subplots.AxesSubplot object at 0x00000280E4526860>]],\n",
       "      dtype=object)"
      ]
     },
     "execution_count": 9,
     "metadata": {},
     "output_type": "execute_result"
    },
    {
     "data": {
      "image/png": "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\n",
      "text/plain": [
       "<Figure size 432x288 with 1 Axes>"
      ]
     },
     "metadata": {
      "needs_background": "light"
     },
     "output_type": "display_data"
    }
   ],
   "source": [
    "data.hist(\"LATITUDE\")"
   ]
  },
  {
   "cell_type": "code",
   "execution_count": 10,
   "metadata": {},
   "outputs": [
    {
     "data": {
      "text/plain": [
       "array([[<matplotlib.axes._subplots.AxesSubplot object at 0x00000280E44F4908>,\n",
       "        <matplotlib.axes._subplots.AxesSubplot object at 0x00000280FFA496D8>,\n",
       "        <matplotlib.axes._subplots.AxesSubplot object at 0x0000028082943C50>],\n",
       "       [<matplotlib.axes._subplots.AxesSubplot object at 0x0000028083582208>,\n",
       "        <matplotlib.axes._subplots.AxesSubplot object at 0x0000028087B25780>,\n",
       "        <matplotlib.axes._subplots.AxesSubplot object at 0x0000028087C11CF8>],\n",
       "       [<matplotlib.axes._subplots.AxesSubplot object at 0x0000028087F0A2B0>,\n",
       "        <matplotlib.axes._subplots.AxesSubplot object at 0x000002808822F860>,\n",
       "        <matplotlib.axes._subplots.AxesSubplot object at 0x000002808822F898>]],\n",
       "      dtype=object)"
      ]
     },
     "execution_count": 10,
     "metadata": {},
     "output_type": "execute_result"
    },
    {
     "data": {
      "image/png": "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\n",
      "text/plain": [
       "<Figure size 432x288 with 9 Axes>"
      ]
     },
     "metadata": {
      "needs_background": "light"
     },
     "output_type": "display_data"
    }
   ],
   "source": [
    "data.hist()"
   ]
  },
  {
   "cell_type": "code",
   "execution_count": 17,
   "metadata": {},
   "outputs": [
    {
     "data": {
      "image/png": "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\n",
      "text/plain": [
       "<Figure size 720x720 with 1 Axes>"
      ]
     },
     "metadata": {
      "needs_background": "light"
     },
     "output_type": "display_data"
    }
   ],
   "source": [
    "def plot_corr(df,size=10):\n",
    "    corr = df.corr()  #the default method is pearson\n",
    "    fig, ax = plt.subplots(figsize=(size, size))\n",
    "    ax.matshow(corr,cmap=plt.cm.Greens)\n",
    "    plt.xticks(range(len(corr.columns)), corr.columns)\n",
    "    plt.yticks(range(len(corr.columns)), corr.columns)\n",
    "    for tick in ax.get_xticklabels():\n",
    "        tick.set_rotation(45)    \n",
    "    plt.show()\n",
    "    \n",
    "\n",
    "    \n",
    "plot_corr(data, size=10)"
   ]
  },
  {
   "cell_type": "code",
   "execution_count": 7,
   "metadata": {},
   "outputs": [
    {
     "data": {
      "text/html": [
       "<div>\n",
       "<style scoped>\n",
       "    .dataframe tbody tr th:only-of-type {\n",
       "        vertical-align: middle;\n",
       "    }\n",
       "\n",
       "    .dataframe tbody tr th {\n",
       "        vertical-align: top;\n",
       "    }\n",
       "\n",
       "    .dataframe thead th {\n",
       "        text-align: right;\n",
       "    }\n",
       "</style>\n",
       "<table border=\"1\" class=\"dataframe\">\n",
       "  <thead>\n",
       "    <tr style=\"text-align: right;\">\n",
       "      <th></th>\n",
       "      <th>UNIT_NAME</th>\n",
       "      <th>FIRE_YEAR</th>\n",
       "      <th>DISCOVERY_DOY</th>\n",
       "      <th>CAUSE_DESCR</th>\n",
       "      <th>CONT_DOY</th>\n",
       "      <th>FIRE_SIZE</th>\n",
       "      <th>FIRE_CLASS</th>\n",
       "      <th>LATITUDE</th>\n",
       "      <th>LONGITUDE</th>\n",
       "      <th>STATE</th>\n",
       "      <th>Shape</th>\n",
       "      <th>DISC_DATE</th>\n",
       "      <th>CONTAIN_DATE</th>\n",
       "      <th>TOTAL DAYS</th>\n",
       "      <th>Day_Category</th>\n",
       "    </tr>\n",
       "  </thead>\n",
       "  <tbody>\n",
       "    <tr>\n",
       "      <th>0</th>\n",
       "      <td>Plumas National Forest</td>\n",
       "      <td>2005</td>\n",
       "      <td>33</td>\n",
       "      <td>Miscellaneous</td>\n",
       "      <td>33.0</td>\n",
       "      <td>0.10</td>\n",
       "      <td>A</td>\n",
       "      <td>40.036944</td>\n",
       "      <td>-121.005833</td>\n",
       "      <td>CA</td>\n",
       "      <td>b'\\x00\\x01\\xad\\x10\\x00\\x00\\xe8d\\xc2\\x92_@^\\xc0...</td>\n",
       "      <td>2005-02-02 00:00:00</td>\n",
       "      <td>2005-02-02 00:00:00</td>\n",
       "      <td>0.0</td>\n",
       "      <td>NaN</td>\n",
       "    </tr>\n",
       "    <tr>\n",
       "      <th>1</th>\n",
       "      <td>Eldorado National Forest</td>\n",
       "      <td>2004</td>\n",
       "      <td>133</td>\n",
       "      <td>Lightning</td>\n",
       "      <td>133.0</td>\n",
       "      <td>0.25</td>\n",
       "      <td>A</td>\n",
       "      <td>38.933056</td>\n",
       "      <td>-120.404444</td>\n",
       "      <td>CA</td>\n",
       "      <td>b'\\x00\\x01\\xad\\x10\\x00\\x00T\\xb6\\xeej\\xe2\\x19^\\...</td>\n",
       "      <td>2004-05-12 00:00:00</td>\n",
       "      <td>2004-05-12 00:00:00</td>\n",
       "      <td>0.0</td>\n",
       "      <td>NaN</td>\n",
       "    </tr>\n",
       "    <tr>\n",
       "      <th>2</th>\n",
       "      <td>Eldorado National Forest</td>\n",
       "      <td>2004</td>\n",
       "      <td>152</td>\n",
       "      <td>Debris Burning</td>\n",
       "      <td>152.0</td>\n",
       "      <td>0.10</td>\n",
       "      <td>A</td>\n",
       "      <td>38.984167</td>\n",
       "      <td>-120.735556</td>\n",
       "      <td>CA</td>\n",
       "      <td>b'\\x00\\x01\\xad\\x10\\x00\\x00\\xd0\\xa5\\xa0W\\x13/^\\...</td>\n",
       "      <td>2004-05-31 00:00:00</td>\n",
       "      <td>2004-05-31 00:00:00</td>\n",
       "      <td>0.0</td>\n",
       "      <td>NaN</td>\n",
       "    </tr>\n",
       "    <tr>\n",
       "      <th>3</th>\n",
       "      <td>Eldorado National Forest</td>\n",
       "      <td>2004</td>\n",
       "      <td>180</td>\n",
       "      <td>Lightning</td>\n",
       "      <td>185.0</td>\n",
       "      <td>0.10</td>\n",
       "      <td>A</td>\n",
       "      <td>38.559167</td>\n",
       "      <td>-119.913333</td>\n",
       "      <td>CA</td>\n",
       "      <td>b'\\x00\\x01\\xad\\x10\\x00\\x00\\x94\\xac\\xa3\\rt\\xfa]...</td>\n",
       "      <td>2004-06-28 00:00:00</td>\n",
       "      <td>2004-07-03 00:00:00</td>\n",
       "      <td>5.0</td>\n",
       "      <td>medium</td>\n",
       "    </tr>\n",
       "    <tr>\n",
       "      <th>4</th>\n",
       "      <td>Eldorado National Forest</td>\n",
       "      <td>2004</td>\n",
       "      <td>180</td>\n",
       "      <td>Lightning</td>\n",
       "      <td>185.0</td>\n",
       "      <td>0.10</td>\n",
       "      <td>A</td>\n",
       "      <td>38.559167</td>\n",
       "      <td>-119.933056</td>\n",
       "      <td>CA</td>\n",
       "      <td>b'\\x00\\x01\\xad\\x10\\x00\\x00@\\xe3\\xaa.\\xb7\\xfb]\\...</td>\n",
       "      <td>2004-06-28 00:00:00</td>\n",
       "      <td>2004-07-03 00:00:00</td>\n",
       "      <td>5.0</td>\n",
       "      <td>medium</td>\n",
       "    </tr>\n",
       "  </tbody>\n",
       "</table>\n",
       "</div>"
      ],
      "text/plain": [
       "                  UNIT_NAME  FIRE_YEAR  DISCOVERY_DOY     CAUSE_DESCR  \\\n",
       "0    Plumas National Forest       2005             33   Miscellaneous   \n",
       "1  Eldorado National Forest       2004            133       Lightning   \n",
       "2  Eldorado National Forest       2004            152  Debris Burning   \n",
       "3  Eldorado National Forest       2004            180       Lightning   \n",
       "4  Eldorado National Forest       2004            180       Lightning   \n",
       "\n",
       "   CONT_DOY  FIRE_SIZE FIRE_CLASS   LATITUDE   LONGITUDE STATE  \\\n",
       "0      33.0       0.10          A  40.036944 -121.005833    CA   \n",
       "1     133.0       0.25          A  38.933056 -120.404444    CA   \n",
       "2     152.0       0.10          A  38.984167 -120.735556    CA   \n",
       "3     185.0       0.10          A  38.559167 -119.913333    CA   \n",
       "4     185.0       0.10          A  38.559167 -119.933056    CA   \n",
       "\n",
       "                                               Shape            DISC_DATE  \\\n",
       "0  b'\\x00\\x01\\xad\\x10\\x00\\x00\\xe8d\\xc2\\x92_@^\\xc0...  2005-02-02 00:00:00   \n",
       "1  b'\\x00\\x01\\xad\\x10\\x00\\x00T\\xb6\\xeej\\xe2\\x19^\\...  2004-05-12 00:00:00   \n",
       "2  b'\\x00\\x01\\xad\\x10\\x00\\x00\\xd0\\xa5\\xa0W\\x13/^\\...  2004-05-31 00:00:00   \n",
       "3  b'\\x00\\x01\\xad\\x10\\x00\\x00\\x94\\xac\\xa3\\rt\\xfa]...  2004-06-28 00:00:00   \n",
       "4  b'\\x00\\x01\\xad\\x10\\x00\\x00@\\xe3\\xaa.\\xb7\\xfb]\\...  2004-06-28 00:00:00   \n",
       "\n",
       "          CONTAIN_DATE  TOTAL DAYS Day_Category  \n",
       "0  2005-02-02 00:00:00         0.0          NaN  \n",
       "1  2004-05-12 00:00:00         0.0          NaN  \n",
       "2  2004-05-31 00:00:00         0.0          NaN  \n",
       "3  2004-07-03 00:00:00         5.0       medium  \n",
       "4  2004-07-03 00:00:00         5.0       medium  "
      ]
     },
     "execution_count": 7,
     "metadata": {},
     "output_type": "execute_result"
    }
   ],
   "source": [
    "data[\"Day_Category\"]=pd.cut(data[\"TOTAL DAYS\"], bins=[0,3,5,10],labels=['small','medium','large'])\n",
    "data.head()"
   ]
  },
  {
   "cell_type": "code",
   "execution_count": 8,
   "metadata": {},
   "outputs": [
    {
     "name": "stdout",
     "output_type": "stream",
     "text": [
      "Day_Category\n",
      "small     141045\n",
      "medium     11442\n",
      "large      11609\n",
      "Name: FIRE_SIZE, dtype: int64\n"
     ]
    }
   ],
   "source": [
    "df=data.groupby(\"Day_Category\")\n",
    "print(df[\"FIRE_SIZE\"].count())"
   ]
  },
  {
   "cell_type": "code",
   "execution_count": 9,
   "metadata": {},
   "outputs": [
    {
     "name": "stdout",
     "output_type": "stream",
     "text": [
      "UNIT_NAME          object\n",
      "FIRE_YEAR           int64\n",
      "DISCOVERY_DOY       int64\n",
      "CAUSE_DESCR        object\n",
      "CONT_DOY          float64\n",
      "FIRE_SIZE         float64\n",
      "FIRE_CLASS         object\n",
      "LATITUDE          float64\n",
      "LONGITUDE         float64\n",
      "STATE              object\n",
      "Shape              object\n",
      "DISC_DATE          object\n",
      "CONTAIN_DATE       object\n",
      "TOTAL DAYS        float64\n",
      "Day_Category     category\n",
      "dtype: object\n"
     ]
    }
   ],
   "source": [
    "print(data.dtypes)"
   ]
  },
  {
   "cell_type": "code",
   "execution_count": 10,
   "metadata": {},
   "outputs": [
    {
     "data": {
      "text/plain": [
       "(1880465, 15)"
      ]
     },
     "execution_count": 10,
     "metadata": {},
     "output_type": "execute_result"
    }
   ],
   "source": [
    "data.shape"
   ]
  },
  {
   "cell_type": "code",
   "execution_count": 11,
   "metadata": {},
   "outputs": [],
   "source": [
    "data[\"CAUSE_DESCR\"]=pd.to_numeric(data.CAUSE_DESCR,errors='coerce').sort_values()"
   ]
  },
  {
   "cell_type": "code",
   "execution_count": 12,
   "metadata": {},
   "outputs": [
    {
     "data": {
      "text/plain": [
       "(1880465, 15)"
      ]
     },
     "execution_count": 12,
     "metadata": {},
     "output_type": "execute_result"
    }
   ],
   "source": [
    "data.shape"
   ]
  },
  {
   "cell_type": "code",
   "execution_count": 13,
   "metadata": {},
   "outputs": [],
   "source": [
    "data[\"FIRE_CLASS\"]=pd.to_numeric(data.FIRE_CLASS,errors='coerce').sort_values()"
   ]
  },
  {
   "cell_type": "code",
   "execution_count": 14,
   "metadata": {},
   "outputs": [],
   "source": [
    "data[\"Day_Category\"]=pd.to_numeric(data.Day_Category,errors='coerce').sort_values()"
   ]
  },
  {
   "cell_type": "code",
   "execution_count": 15,
   "metadata": {},
   "outputs": [
    {
     "name": "stdout",
     "output_type": "stream",
     "text": [
      "UNIT_NAME         object\n",
      "FIRE_YEAR          int64\n",
      "DISCOVERY_DOY      int64\n",
      "CAUSE_DESCR      float64\n",
      "CONT_DOY         float64\n",
      "FIRE_SIZE        float64\n",
      "FIRE_CLASS       float64\n",
      "LATITUDE         float64\n",
      "LONGITUDE        float64\n",
      "STATE             object\n",
      "Shape             object\n",
      "DISC_DATE         object\n",
      "CONTAIN_DATE      object\n",
      "TOTAL DAYS       float64\n",
      "Day_Category     float64\n",
      "dtype: object\n"
     ]
    }
   ],
   "source": [
    "print(data.dtypes)"
   ]
  },
  {
   "cell_type": "code",
   "execution_count": 24,
   "metadata": {},
   "outputs": [
    {
     "name": "stdout",
     "output_type": "stream",
     "text": [
      "Missing values per column:\n",
      "CONT_DOY        891531.0\n",
      "CONTAIN_DATE    891531.0\n",
      "TOTAL DAYS      891531.0\n",
      "dtype: float64\n"
     ]
    }
   ],
   "source": [
    "#Create a new function:\n",
    "def num_missing(x):\n",
    "    return sum(x.isnull())\n",
    "\n",
    "#Applying per column:\n",
    "print(\"Missing values per column:\")\n",
    "## Check how many are missing by column, and then check which ones have any missing values\n",
    "print(data.apply(num_missing, axis=0).where(lambda x : x != 0).dropna().head(20)) \n",
    "#axis=0 defines that function is to be applied on each column"
   ]
  },
  {
   "cell_type": "code",
   "execution_count": 25,
   "metadata": {},
   "outputs": [
    {
     "data": {
      "text/plain": [
       "(1880465, 14)"
      ]
     },
     "execution_count": 25,
     "metadata": {},
     "output_type": "execute_result"
    }
   ],
   "source": [
    "data.shape"
   ]
  },
  {
   "cell_type": "code",
   "execution_count": 27,
   "metadata": {},
   "outputs": [],
   "source": [
    "data = data.drop('CONTAIN_DATE',axis=1)\n",
    "data = data.dropna()"
   ]
  },
  {
   "cell_type": "code",
   "execution_count": 28,
   "metadata": {},
   "outputs": [
    {
     "data": {
      "text/plain": [
       "(988934, 13)"
      ]
     },
     "execution_count": 28,
     "metadata": {},
     "output_type": "execute_result"
    }
   ],
   "source": [
    "data.shape"
   ]
  },
  {
   "cell_type": "code",
   "execution_count": 29,
   "metadata": {},
   "outputs": [],
   "source": [
    "pd.options.mode.chained_assignment = None  # default='warn'\n",
    "\n",
    "# Define our dependent variable\n",
    "y_column = 'FIRE_SIZE'\n",
    "y = data[y_column]\n",
    "# Define our independent variables\n",
    "x_columns = ['CAUSE_DESCR']\n",
    "X = data[x_columns]\n",
    "# Add an intercept term to the independent variables. This is needed in order to include the constant term from\n",
    "# linear regression equation.\n",
    "X['intercept'] = 1\n",
    "# Split our data into training and test data sets\n",
    "X_train, X_test, y_train, y_test = train_test_split(X, y, test_size=0.2, random_state=42)"
   ]
  },
  {
   "cell_type": "code",
   "execution_count": 30,
   "metadata": {},
   "outputs": [
    {
     "ename": "ValueError",
     "evalue": "Pandas data cast to numpy dtype of object. Check input data with np.asarray(data).",
     "output_type": "error",
     "traceback": [
      "\u001b[1;31m---------------------------------------------------------------------------\u001b[0m",
      "\u001b[1;31mValueError\u001b[0m                                Traceback (most recent call last)",
      "\u001b[1;32m<ipython-input-30-d35c4de01cef>\u001b[0m in \u001b[0;36m<module>\u001b[1;34m\u001b[0m\n\u001b[1;32m----> 1\u001b[1;33m \u001b[0mmodel\u001b[0m \u001b[1;33m=\u001b[0m \u001b[0msm\u001b[0m\u001b[1;33m.\u001b[0m\u001b[0mOLS\u001b[0m\u001b[1;33m(\u001b[0m\u001b[0mendog\u001b[0m\u001b[1;33m=\u001b[0m\u001b[0my_train\u001b[0m\u001b[1;33m,\u001b[0m \u001b[0mexog\u001b[0m\u001b[1;33m=\u001b[0m\u001b[0mX_train\u001b[0m\u001b[1;33m)\u001b[0m\u001b[1;33m\u001b[0m\u001b[1;33m\u001b[0m\u001b[0m\n\u001b[0m\u001b[0;32m      2\u001b[0m \u001b[0mmodel_fit\u001b[0m \u001b[1;33m=\u001b[0m \u001b[0mmodel\u001b[0m\u001b[1;33m.\u001b[0m\u001b[0mfit\u001b[0m\u001b[1;33m(\u001b[0m\u001b[1;33m)\u001b[0m\u001b[1;33m\u001b[0m\u001b[1;33m\u001b[0m\u001b[0m\n\u001b[0;32m      3\u001b[0m \u001b[0mprint\u001b[0m\u001b[1;33m(\u001b[0m\u001b[0mmodel_fit\u001b[0m\u001b[1;33m.\u001b[0m\u001b[0msummary\u001b[0m\u001b[1;33m(\u001b[0m\u001b[1;33m)\u001b[0m\u001b[1;33m)\u001b[0m\u001b[1;33m\u001b[0m\u001b[1;33m\u001b[0m\u001b[0m\n",
      "\u001b[1;32mC:\\ProgramData\\Anaconda3\\lib\\site-packages\\statsmodels\\regression\\linear_model.py\u001b[0m in \u001b[0;36m__init__\u001b[1;34m(self, endog, exog, missing, hasconst, **kwargs)\u001b[0m\n\u001b[0;32m    815\u001b[0m                  **kwargs):\n\u001b[0;32m    816\u001b[0m         super(OLS, self).__init__(endog, exog, missing=missing,\n\u001b[1;32m--> 817\u001b[1;33m                                   hasconst=hasconst, **kwargs)\n\u001b[0m\u001b[0;32m    818\u001b[0m         \u001b[1;32mif\u001b[0m \u001b[1;34m\"weights\"\u001b[0m \u001b[1;32min\u001b[0m \u001b[0mself\u001b[0m\u001b[1;33m.\u001b[0m\u001b[0m_init_keys\u001b[0m\u001b[1;33m:\u001b[0m\u001b[1;33m\u001b[0m\u001b[1;33m\u001b[0m\u001b[0m\n\u001b[0;32m    819\u001b[0m             \u001b[0mself\u001b[0m\u001b[1;33m.\u001b[0m\u001b[0m_init_keys\u001b[0m\u001b[1;33m.\u001b[0m\u001b[0mremove\u001b[0m\u001b[1;33m(\u001b[0m\u001b[1;34m\"weights\"\u001b[0m\u001b[1;33m)\u001b[0m\u001b[1;33m\u001b[0m\u001b[1;33m\u001b[0m\u001b[0m\n",
      "\u001b[1;32mC:\\ProgramData\\Anaconda3\\lib\\site-packages\\statsmodels\\regression\\linear_model.py\u001b[0m in \u001b[0;36m__init__\u001b[1;34m(self, endog, exog, weights, missing, hasconst, **kwargs)\u001b[0m\n\u001b[0;32m    661\u001b[0m             \u001b[0mweights\u001b[0m \u001b[1;33m=\u001b[0m \u001b[0mweights\u001b[0m\u001b[1;33m.\u001b[0m\u001b[0msqueeze\u001b[0m\u001b[1;33m(\u001b[0m\u001b[1;33m)\u001b[0m\u001b[1;33m\u001b[0m\u001b[1;33m\u001b[0m\u001b[0m\n\u001b[0;32m    662\u001b[0m         super(WLS, self).__init__(endog, exog, missing=missing,\n\u001b[1;32m--> 663\u001b[1;33m                                   weights=weights, hasconst=hasconst, **kwargs)\n\u001b[0m\u001b[0;32m    664\u001b[0m         \u001b[0mnobs\u001b[0m \u001b[1;33m=\u001b[0m \u001b[0mself\u001b[0m\u001b[1;33m.\u001b[0m\u001b[0mexog\u001b[0m\u001b[1;33m.\u001b[0m\u001b[0mshape\u001b[0m\u001b[1;33m[\u001b[0m\u001b[1;36m0\u001b[0m\u001b[1;33m]\u001b[0m\u001b[1;33m\u001b[0m\u001b[1;33m\u001b[0m\u001b[0m\n\u001b[0;32m    665\u001b[0m         \u001b[0mweights\u001b[0m \u001b[1;33m=\u001b[0m \u001b[0mself\u001b[0m\u001b[1;33m.\u001b[0m\u001b[0mweights\u001b[0m\u001b[1;33m\u001b[0m\u001b[1;33m\u001b[0m\u001b[0m\n",
      "\u001b[1;32mC:\\ProgramData\\Anaconda3\\lib\\site-packages\\statsmodels\\regression\\linear_model.py\u001b[0m in \u001b[0;36m__init__\u001b[1;34m(self, endog, exog, **kwargs)\u001b[0m\n\u001b[0;32m    177\u001b[0m     \"\"\"\n\u001b[0;32m    178\u001b[0m     \u001b[1;32mdef\u001b[0m \u001b[0m__init__\u001b[0m\u001b[1;33m(\u001b[0m\u001b[0mself\u001b[0m\u001b[1;33m,\u001b[0m \u001b[0mendog\u001b[0m\u001b[1;33m,\u001b[0m \u001b[0mexog\u001b[0m\u001b[1;33m,\u001b[0m \u001b[1;33m**\u001b[0m\u001b[0mkwargs\u001b[0m\u001b[1;33m)\u001b[0m\u001b[1;33m:\u001b[0m\u001b[1;33m\u001b[0m\u001b[1;33m\u001b[0m\u001b[0m\n\u001b[1;32m--> 179\u001b[1;33m         \u001b[0msuper\u001b[0m\u001b[1;33m(\u001b[0m\u001b[0mRegressionModel\u001b[0m\u001b[1;33m,\u001b[0m \u001b[0mself\u001b[0m\u001b[1;33m)\u001b[0m\u001b[1;33m.\u001b[0m\u001b[0m__init__\u001b[0m\u001b[1;33m(\u001b[0m\u001b[0mendog\u001b[0m\u001b[1;33m,\u001b[0m \u001b[0mexog\u001b[0m\u001b[1;33m,\u001b[0m \u001b[1;33m**\u001b[0m\u001b[0mkwargs\u001b[0m\u001b[1;33m)\u001b[0m\u001b[1;33m\u001b[0m\u001b[1;33m\u001b[0m\u001b[0m\n\u001b[0m\u001b[0;32m    180\u001b[0m         \u001b[0mself\u001b[0m\u001b[1;33m.\u001b[0m\u001b[0m_data_attr\u001b[0m\u001b[1;33m.\u001b[0m\u001b[0mextend\u001b[0m\u001b[1;33m(\u001b[0m\u001b[1;33m[\u001b[0m\u001b[1;34m'pinv_wexog'\u001b[0m\u001b[1;33m,\u001b[0m \u001b[1;34m'wendog'\u001b[0m\u001b[1;33m,\u001b[0m \u001b[1;34m'wexog'\u001b[0m\u001b[1;33m,\u001b[0m \u001b[1;34m'weights'\u001b[0m\u001b[1;33m]\u001b[0m\u001b[1;33m)\u001b[0m\u001b[1;33m\u001b[0m\u001b[1;33m\u001b[0m\u001b[0m\n\u001b[0;32m    181\u001b[0m \u001b[1;33m\u001b[0m\u001b[0m\n",
      "\u001b[1;32mC:\\ProgramData\\Anaconda3\\lib\\site-packages\\statsmodels\\base\\model.py\u001b[0m in \u001b[0;36m__init__\u001b[1;34m(self, endog, exog, **kwargs)\u001b[0m\n\u001b[0;32m    210\u001b[0m \u001b[1;33m\u001b[0m\u001b[0m\n\u001b[0;32m    211\u001b[0m     \u001b[1;32mdef\u001b[0m \u001b[0m__init__\u001b[0m\u001b[1;33m(\u001b[0m\u001b[0mself\u001b[0m\u001b[1;33m,\u001b[0m \u001b[0mendog\u001b[0m\u001b[1;33m,\u001b[0m \u001b[0mexog\u001b[0m\u001b[1;33m=\u001b[0m\u001b[1;32mNone\u001b[0m\u001b[1;33m,\u001b[0m \u001b[1;33m**\u001b[0m\u001b[0mkwargs\u001b[0m\u001b[1;33m)\u001b[0m\u001b[1;33m:\u001b[0m\u001b[1;33m\u001b[0m\u001b[1;33m\u001b[0m\u001b[0m\n\u001b[1;32m--> 212\u001b[1;33m         \u001b[0msuper\u001b[0m\u001b[1;33m(\u001b[0m\u001b[0mLikelihoodModel\u001b[0m\u001b[1;33m,\u001b[0m \u001b[0mself\u001b[0m\u001b[1;33m)\u001b[0m\u001b[1;33m.\u001b[0m\u001b[0m__init__\u001b[0m\u001b[1;33m(\u001b[0m\u001b[0mendog\u001b[0m\u001b[1;33m,\u001b[0m \u001b[0mexog\u001b[0m\u001b[1;33m,\u001b[0m \u001b[1;33m**\u001b[0m\u001b[0mkwargs\u001b[0m\u001b[1;33m)\u001b[0m\u001b[1;33m\u001b[0m\u001b[1;33m\u001b[0m\u001b[0m\n\u001b[0m\u001b[0;32m    213\u001b[0m         \u001b[0mself\u001b[0m\u001b[1;33m.\u001b[0m\u001b[0minitialize\u001b[0m\u001b[1;33m(\u001b[0m\u001b[1;33m)\u001b[0m\u001b[1;33m\u001b[0m\u001b[1;33m\u001b[0m\u001b[0m\n\u001b[0;32m    214\u001b[0m \u001b[1;33m\u001b[0m\u001b[0m\n",
      "\u001b[1;32mC:\\ProgramData\\Anaconda3\\lib\\site-packages\\statsmodels\\base\\model.py\u001b[0m in \u001b[0;36m__init__\u001b[1;34m(self, endog, exog, **kwargs)\u001b[0m\n\u001b[0;32m     62\u001b[0m         \u001b[0mhasconst\u001b[0m \u001b[1;33m=\u001b[0m \u001b[0mkwargs\u001b[0m\u001b[1;33m.\u001b[0m\u001b[0mpop\u001b[0m\u001b[1;33m(\u001b[0m\u001b[1;34m'hasconst'\u001b[0m\u001b[1;33m,\u001b[0m \u001b[1;32mNone\u001b[0m\u001b[1;33m)\u001b[0m\u001b[1;33m\u001b[0m\u001b[1;33m\u001b[0m\u001b[0m\n\u001b[0;32m     63\u001b[0m         self.data = self._handle_data(endog, exog, missing, hasconst,\n\u001b[1;32m---> 64\u001b[1;33m                                       **kwargs)\n\u001b[0m\u001b[0;32m     65\u001b[0m         \u001b[0mself\u001b[0m\u001b[1;33m.\u001b[0m\u001b[0mk_constant\u001b[0m \u001b[1;33m=\u001b[0m \u001b[0mself\u001b[0m\u001b[1;33m.\u001b[0m\u001b[0mdata\u001b[0m\u001b[1;33m.\u001b[0m\u001b[0mk_constant\u001b[0m\u001b[1;33m\u001b[0m\u001b[1;33m\u001b[0m\u001b[0m\n\u001b[0;32m     66\u001b[0m         \u001b[0mself\u001b[0m\u001b[1;33m.\u001b[0m\u001b[0mexog\u001b[0m \u001b[1;33m=\u001b[0m \u001b[0mself\u001b[0m\u001b[1;33m.\u001b[0m\u001b[0mdata\u001b[0m\u001b[1;33m.\u001b[0m\u001b[0mexog\u001b[0m\u001b[1;33m\u001b[0m\u001b[1;33m\u001b[0m\u001b[0m\n",
      "\u001b[1;32mC:\\ProgramData\\Anaconda3\\lib\\site-packages\\statsmodels\\base\\model.py\u001b[0m in \u001b[0;36m_handle_data\u001b[1;34m(self, endog, exog, missing, hasconst, **kwargs)\u001b[0m\n\u001b[0;32m     85\u001b[0m \u001b[1;33m\u001b[0m\u001b[0m\n\u001b[0;32m     86\u001b[0m     \u001b[1;32mdef\u001b[0m \u001b[0m_handle_data\u001b[0m\u001b[1;33m(\u001b[0m\u001b[0mself\u001b[0m\u001b[1;33m,\u001b[0m \u001b[0mendog\u001b[0m\u001b[1;33m,\u001b[0m \u001b[0mexog\u001b[0m\u001b[1;33m,\u001b[0m \u001b[0mmissing\u001b[0m\u001b[1;33m,\u001b[0m \u001b[0mhasconst\u001b[0m\u001b[1;33m,\u001b[0m \u001b[1;33m**\u001b[0m\u001b[0mkwargs\u001b[0m\u001b[1;33m)\u001b[0m\u001b[1;33m:\u001b[0m\u001b[1;33m\u001b[0m\u001b[1;33m\u001b[0m\u001b[0m\n\u001b[1;32m---> 87\u001b[1;33m         \u001b[0mdata\u001b[0m \u001b[1;33m=\u001b[0m \u001b[0mhandle_data\u001b[0m\u001b[1;33m(\u001b[0m\u001b[0mendog\u001b[0m\u001b[1;33m,\u001b[0m \u001b[0mexog\u001b[0m\u001b[1;33m,\u001b[0m \u001b[0mmissing\u001b[0m\u001b[1;33m,\u001b[0m \u001b[0mhasconst\u001b[0m\u001b[1;33m,\u001b[0m \u001b[1;33m**\u001b[0m\u001b[0mkwargs\u001b[0m\u001b[1;33m)\u001b[0m\u001b[1;33m\u001b[0m\u001b[1;33m\u001b[0m\u001b[0m\n\u001b[0m\u001b[0;32m     88\u001b[0m         \u001b[1;31m# kwargs arrays could have changed, easier to just attach here\u001b[0m\u001b[1;33m\u001b[0m\u001b[1;33m\u001b[0m\u001b[1;33m\u001b[0m\u001b[0m\n\u001b[0;32m     89\u001b[0m         \u001b[1;32mfor\u001b[0m \u001b[0mkey\u001b[0m \u001b[1;32min\u001b[0m \u001b[0mkwargs\u001b[0m\u001b[1;33m:\u001b[0m\u001b[1;33m\u001b[0m\u001b[1;33m\u001b[0m\u001b[0m\n",
      "\u001b[1;32mC:\\ProgramData\\Anaconda3\\lib\\site-packages\\statsmodels\\base\\data.py\u001b[0m in \u001b[0;36mhandle_data\u001b[1;34m(endog, exog, missing, hasconst, **kwargs)\u001b[0m\n\u001b[0;32m    631\u001b[0m     \u001b[0mklass\u001b[0m \u001b[1;33m=\u001b[0m \u001b[0mhandle_data_class_factory\u001b[0m\u001b[1;33m(\u001b[0m\u001b[0mendog\u001b[0m\u001b[1;33m,\u001b[0m \u001b[0mexog\u001b[0m\u001b[1;33m)\u001b[0m\u001b[1;33m\u001b[0m\u001b[1;33m\u001b[0m\u001b[0m\n\u001b[0;32m    632\u001b[0m     return klass(endog, exog=exog, missing=missing, hasconst=hasconst,\n\u001b[1;32m--> 633\u001b[1;33m                  **kwargs)\n\u001b[0m",
      "\u001b[1;32mC:\\ProgramData\\Anaconda3\\lib\\site-packages\\statsmodels\\base\\data.py\u001b[0m in \u001b[0;36m__init__\u001b[1;34m(self, endog, exog, missing, hasconst, **kwargs)\u001b[0m\n\u001b[0;32m     74\u001b[0m             \u001b[0mself\u001b[0m\u001b[1;33m.\u001b[0m\u001b[0morig_endog\u001b[0m \u001b[1;33m=\u001b[0m \u001b[0mendog\u001b[0m\u001b[1;33m\u001b[0m\u001b[1;33m\u001b[0m\u001b[0m\n\u001b[0;32m     75\u001b[0m             \u001b[0mself\u001b[0m\u001b[1;33m.\u001b[0m\u001b[0morig_exog\u001b[0m \u001b[1;33m=\u001b[0m \u001b[0mexog\u001b[0m\u001b[1;33m\u001b[0m\u001b[1;33m\u001b[0m\u001b[0m\n\u001b[1;32m---> 76\u001b[1;33m             \u001b[0mself\u001b[0m\u001b[1;33m.\u001b[0m\u001b[0mendog\u001b[0m\u001b[1;33m,\u001b[0m \u001b[0mself\u001b[0m\u001b[1;33m.\u001b[0m\u001b[0mexog\u001b[0m \u001b[1;33m=\u001b[0m \u001b[0mself\u001b[0m\u001b[1;33m.\u001b[0m\u001b[0m_convert_endog_exog\u001b[0m\u001b[1;33m(\u001b[0m\u001b[0mendog\u001b[0m\u001b[1;33m,\u001b[0m \u001b[0mexog\u001b[0m\u001b[1;33m)\u001b[0m\u001b[1;33m\u001b[0m\u001b[1;33m\u001b[0m\u001b[0m\n\u001b[0m\u001b[0;32m     77\u001b[0m \u001b[1;33m\u001b[0m\u001b[0m\n\u001b[0;32m     78\u001b[0m         \u001b[1;31m# this has side-effects, attaches k_constant and const_idx\u001b[0m\u001b[1;33m\u001b[0m\u001b[1;33m\u001b[0m\u001b[1;33m\u001b[0m\u001b[0m\n",
      "\u001b[1;32mC:\\ProgramData\\Anaconda3\\lib\\site-packages\\statsmodels\\base\\data.py\u001b[0m in \u001b[0;36m_convert_endog_exog\u001b[1;34m(self, endog, exog)\u001b[0m\n\u001b[0;32m    472\u001b[0m         \u001b[0mexog\u001b[0m \u001b[1;33m=\u001b[0m \u001b[0mexog\u001b[0m \u001b[1;32mif\u001b[0m \u001b[0mexog\u001b[0m \u001b[1;32mis\u001b[0m \u001b[1;32mNone\u001b[0m \u001b[1;32melse\u001b[0m \u001b[0mnp\u001b[0m\u001b[1;33m.\u001b[0m\u001b[0masarray\u001b[0m\u001b[1;33m(\u001b[0m\u001b[0mexog\u001b[0m\u001b[1;33m)\u001b[0m\u001b[1;33m\u001b[0m\u001b[1;33m\u001b[0m\u001b[0m\n\u001b[0;32m    473\u001b[0m         \u001b[1;32mif\u001b[0m \u001b[0mendog\u001b[0m\u001b[1;33m.\u001b[0m\u001b[0mdtype\u001b[0m \u001b[1;33m==\u001b[0m \u001b[0mobject\u001b[0m \u001b[1;32mor\u001b[0m \u001b[0mexog\u001b[0m \u001b[1;32mis\u001b[0m \u001b[1;32mnot\u001b[0m \u001b[1;32mNone\u001b[0m \u001b[1;32mand\u001b[0m \u001b[0mexog\u001b[0m\u001b[1;33m.\u001b[0m\u001b[0mdtype\u001b[0m \u001b[1;33m==\u001b[0m \u001b[0mobject\u001b[0m\u001b[1;33m:\u001b[0m\u001b[1;33m\u001b[0m\u001b[1;33m\u001b[0m\u001b[0m\n\u001b[1;32m--> 474\u001b[1;33m             raise ValueError(\"Pandas data cast to numpy dtype of object. \"\n\u001b[0m\u001b[0;32m    475\u001b[0m                              \"Check input data with np.asarray(data).\")\n\u001b[0;32m    476\u001b[0m         \u001b[1;32mreturn\u001b[0m \u001b[0msuper\u001b[0m\u001b[1;33m(\u001b[0m\u001b[0mPandasData\u001b[0m\u001b[1;33m,\u001b[0m \u001b[0mself\u001b[0m\u001b[1;33m)\u001b[0m\u001b[1;33m.\u001b[0m\u001b[0m_convert_endog_exog\u001b[0m\u001b[1;33m(\u001b[0m\u001b[0mendog\u001b[0m\u001b[1;33m,\u001b[0m \u001b[0mexog\u001b[0m\u001b[1;33m)\u001b[0m\u001b[1;33m\u001b[0m\u001b[1;33m\u001b[0m\u001b[0m\n",
      "\u001b[1;31mValueError\u001b[0m: Pandas data cast to numpy dtype of object. Check input data with np.asarray(data)."
     ]
    }
   ],
   "source": [
    "model = sm.OLS(endog=y_train, exog=X_train)\n",
    "model_fit = model.fit()\n",
    "print(model_fit.summary())"
   ]
  },
  {
   "cell_type": "code",
=======
>>>>>>> 6848bbdfed49e3b7f78057ae9aea192a7c28f40c
   "execution_count": null,
   "metadata": {},
   "outputs": [],
   "source": []
  }
 ],
 "metadata": {
  "kernelspec": {
   "display_name": "Python 3",
   "language": "python",
   "name": "python3"
  },
  "language_info": {
   "codemirror_mode": {
    "name": "ipython",
    "version": 3
   },
   "file_extension": ".py",
   "mimetype": "text/x-python",
   "name": "python",
   "nbconvert_exporter": "python",
   "pygments_lexer": "ipython3",
   "version": "3.7.1"
  }
 },
 "nbformat": 4,
 "nbformat_minor": 2
}
