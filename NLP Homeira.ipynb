{
 "cells": [
  {
   "cell_type": "code",
   "execution_count": 1,
   "metadata": {},
   "outputs": [],
   "source": [
    "# System\n",
    "import os\n",
    "\n",
    "# Time\n",
    "import time\n",
    "import datetime\n",
    "\n",
    "# Numerical\n",
    "import numpy as np\n",
    "import pandas as pd\n",
    "\n",
    "# Tools\n",
    "import itertools\n",
    "from collections import Counter\n",
    "\n",
    "# NLP\n",
    "import nltk\n",
    "import re\n",
    "from nltk.corpus import stopwords\n",
    "from nltk.tokenize import word_tokenize \n",
    "from nltk.stem import SnowballStemmer\n",
    "from nltk.stem import PorterStemmer\n",
    "from nltk.stem import WordNetLemmatizer\n",
    "# from pywsd.utils import lemmatize_sentence\n",
    "\n",
    "# Preprocessing\n",
    "from sklearn import preprocessing\n",
    "from sklearn.utils import class_weight as cw\n",
    "from sklearn.feature_extraction.text import CountVectorizer\n",
    "from sklearn.preprocessing import StandardScaler\n",
    "from sklearn.preprocessing import LabelEncoder\n",
    "from sklearn.model_selection import train_test_split\n",
    "from sklearn.feature_extraction.text import TfidfVectorizer\n",
    "from bs4 import BeautifulSoup\n",
    "\n",
    "# Model Selection\n",
    "from sklearn.model_selection import train_test_split, cross_val_score, GridSearchCV\n",
    "\n",
    "# Machine Learning Models\n",
    "from sklearn.linear_model import LogisticRegression\n",
    "from sklearn import svm\n",
    "from sklearn.svm import SVC\n",
    "from sklearn.naive_bayes import MultinomialNB\n",
    "from sklearn.neighbors import KNeighborsClassifier\n",
    "from sklearn.ensemble import AdaBoostClassifier, RandomForestClassifier, BaggingClassifier, ExtraTreesClassifier\n",
    "from sklearn.tree import DecisionTreeClassifier\n",
    "\n",
    "# Evaluation Metrics\n",
    "from sklearn import metrics \n",
    "from sklearn.metrics import f1_score, accuracy_score,confusion_matrix,classification_report\n",
    "\n",
    "# Visualization\n",
    "import matplotlib.pyplot as plt\n",
    "import seaborn as sns"
   ]
  },
  {
   "cell_type": "code",
   "execution_count": 2,
   "metadata": {},
   "outputs": [],
   "source": [
    "df = pd.read_csv('C:/Users/Administrator/Documents/GitHub/Wildfire-and-Climate-Change/data/twitter_sentiment_data.csv')"
   ]
  },
  {
   "cell_type": "code",
   "execution_count": 3,
   "metadata": {},
   "outputs": [
    {
     "data": {
      "text/html": [
       "<div>\n",
       "<style scoped>\n",
       "    .dataframe tbody tr th:only-of-type {\n",
       "        vertical-align: middle;\n",
       "    }\n",
       "\n",
       "    .dataframe tbody tr th {\n",
       "        vertical-align: top;\n",
       "    }\n",
       "\n",
       "    .dataframe thead th {\n",
       "        text-align: right;\n",
       "    }\n",
       "</style>\n",
       "<table border=\"1\" class=\"dataframe\">\n",
       "  <thead>\n",
       "    <tr style=\"text-align: right;\">\n",
       "      <th></th>\n",
       "      <th>sentiment</th>\n",
       "      <th>message</th>\n",
       "      <th>tweetid</th>\n",
       "    </tr>\n",
       "  </thead>\n",
       "  <tbody>\n",
       "    <tr>\n",
       "      <th>0</th>\n",
       "      <td>-1</td>\n",
       "      <td>@tiniebeany climate change is an interesting h...</td>\n",
       "      <td>792927353886371840</td>\n",
       "    </tr>\n",
       "    <tr>\n",
       "      <th>1</th>\n",
       "      <td>1</td>\n",
       "      <td>RT @NatGeoChannel: Watch #BeforeTheFlood right...</td>\n",
       "      <td>793124211518832641</td>\n",
       "    </tr>\n",
       "    <tr>\n",
       "      <th>2</th>\n",
       "      <td>1</td>\n",
       "      <td>Fabulous! Leonardo #DiCaprio's film on #climat...</td>\n",
       "      <td>793124402388832256</td>\n",
       "    </tr>\n",
       "    <tr>\n",
       "      <th>3</th>\n",
       "      <td>1</td>\n",
       "      <td>RT @Mick_Fanning: Just watched this amazing do...</td>\n",
       "      <td>793124635873275904</td>\n",
       "    </tr>\n",
       "    <tr>\n",
       "      <th>4</th>\n",
       "      <td>2</td>\n",
       "      <td>RT @cnalive: Pranita Biswasi, a Lutheran from ...</td>\n",
       "      <td>793125156185137153</td>\n",
       "    </tr>\n",
       "  </tbody>\n",
       "</table>\n",
       "</div>"
      ],
      "text/plain": [
       "   sentiment                                            message  \\\n",
       "0         -1  @tiniebeany climate change is an interesting h...   \n",
       "1          1  RT @NatGeoChannel: Watch #BeforeTheFlood right...   \n",
       "2          1  Fabulous! Leonardo #DiCaprio's film on #climat...   \n",
       "3          1  RT @Mick_Fanning: Just watched this amazing do...   \n",
       "4          2  RT @cnalive: Pranita Biswasi, a Lutheran from ...   \n",
       "\n",
       "              tweetid  \n",
       "0  792927353886371840  \n",
       "1  793124211518832641  \n",
       "2  793124402388832256  \n",
       "3  793124635873275904  \n",
       "4  793125156185137153  "
      ]
     },
     "execution_count": 3,
     "metadata": {},
     "output_type": "execute_result"
    }
   ],
   "source": [
    "df.head()"
   ]
  },
  {
   "cell_type": "markdown",
   "metadata": {},
   "source": [
    "# Visualization"
   ]
  },
  {
   "cell_type": "code",
   "execution_count": 4,
   "metadata": {},
   "outputs": [
    {
     "data": {
      "text/plain": [
       "[]"
      ]
     },
     "execution_count": 4,
     "metadata": {},
     "output_type": "execute_result"
    },
    {
     "data": {
      "image/png": "[encoded data removed]",
      "text/plain": [
       "<Figure size 1440x360 with 1 Axes>"
      ]
     },
     "metadata": {
      "needs_background": "light"
     },
     "output_type": "display_data"
    }
   ],
   "source": [
    "figsize=(20, 5)\n",
    "\n",
    "ticksize = 14\n",
    "titlesize = ticksize + 8\n",
    "labelsize = ticksize + 5\n",
    "\n",
    "params = {'figure.figsize' : figsize,\n",
    "          'axes.labelsize' : labelsize,\n",
    "          'axes.titlesize' : titlesize,\n",
    "          'xtick.labelsize': ticksize,\n",
    "          'ytick.labelsize': ticksize}\n",
    "\n",
    "plt.rcParams.update(params)\n",
    "\n",
    "plt.subplot(122)\n",
    "col = \"sentiment\"\n",
    "xlabel = \"Sentiment\"\n",
    "ylabel = \"Count\"\n",
    "sns.countplot(df[col])\n",
    "plt.title(\"Review Sentiment Count\")\n",
    "plt.xlabel(xlabel)\n",
    "plt.ylabel(ylabel)\n",
    "plt.xticks(rotation=90)\n",
    "plt.plot()"
   ]
  },
  {
   "cell_type": "markdown",
   "metadata": {},
   "source": [
    "# Training Model"
   ]
  },
  {
   "cell_type": "code",
   "execution_count": 5,
   "metadata": {},
   "outputs": [
    {
     "name": "stdout",
     "output_type": "stream",
     "text": [
      "0        @tiniebeany climate change is an interesting h...\n",
      "1        RT @NatGeoChannel: Watch #BeforeTheFlood right...\n",
      "2        Fabulous! Leonardo #DiCaprio's film on #climat...\n",
      "3        RT @Mick_Fanning: Just watched this amazing do...\n",
      "4        RT @cnalive: Pranita Biswasi, a Lutheran from ...\n",
      "                               ...                        \n",
      "43938    Dear @realDonaldTrump,\\nYeah right. Human Medi...\n",
      "43939    What will your respective parties do to preven...\n",
      "43940    RT @MikkiL: UN Poll Shows Climate Change Is th...\n",
      "43941    RT @taehbeingextra: i still can$q$t believe th...\n",
      "43942    @Likeabat77 @zachhaller \\n\\nThe wealthy + foss...\n",
      "Name: message, Length: 43943, dtype: object\n"
     ]
    }
   ],
   "source": [
    "X = df\n",
    "print(X[\"message\"])"
   ]
  },
  {
   "cell_type": "code",
   "execution_count": 6,
   "metadata": {},
   "outputs": [
    {
     "name": "stdout",
     "output_type": "stream",
     "text": [
      "0        @tiniebeany climate change is an interesting h...\n",
      "1        RT @NatGeoChannel: Watch #BeforeTheFlood right...\n",
      "2        Fabulous! Leonardo #DiCaprio's film on #climat...\n",
      "3        RT @Mick_Fanning: Just watched this amazing do...\n",
      "4        RT @cnalive: Pranita Biswasi, a Lutheran from ...\n",
      "                               ...                        \n",
      "43938    Dear @realDonaldTrump,\\nYeah right. Human Medi...\n",
      "43939    What will your respective parties do to preven...\n",
      "43940    RT @MikkiL: UN Poll Shows Climate Change Is th...\n",
      "43941    RT @taehbeingextra: i still can$q$t believe th...\n",
      "43942    @Likeabat77 @zachhaller \\n\\nThe wealthy + foss...\n",
      "Name: message, Length: 43943, dtype: object\n"
     ]
    }
   ],
   "source": [
    "#Beautiful Soup is a library that makes it easy to scrape information from web pages.\n",
    "#It sits atop an HTML or XML parser, providing Pythonic idioms for iterating, searching, and modifying the parse tree.\n",
    "X[\"message\"] = X[\"message\"].apply(lambda x: BeautifulSoup(x, \"lxml\").get_text())\n",
    "print(X[\"message\"])"
   ]
  },
  {
   "cell_type": "code",
   "execution_count": 7,
   "metadata": {},
   "outputs": [
    {
     "name": "stdout",
     "output_type": "stream",
     "text": [
      "0        @tiniebeany climate change is an interesting h...\n",
      "1        rt @natgeochannel: watch #beforetheflood right...\n",
      "2        fabulous! leonardo #dicaprio's film on #climat...\n",
      "3        rt @mick_fanning: just watched this amazing do...\n",
      "4        rt @cnalive: pranita biswasi, a lutheran from ...\n",
      "                               ...                        \n",
      "43938    dear @realdonaldtrump,\\nyeah right. human medi...\n",
      "43939    what will your respective parties do to preven...\n",
      "43940    rt @mikkil: un poll shows climate change is th...\n",
      "43941    rt @taehbeingextra: i still can$q$t believe th...\n",
      "43942    @likeabat77 @zachhaller \\n\\nthe wealthy + foss...\n",
      "Name: message, Length: 43943, dtype: object\n"
     ]
    }
   ],
   "source": [
    "X[\"message\"] = X[\"message\"].apply(lambda x: x.lower())\n",
    "print(X[\"message\"])"
   ]
  },
  {
   "cell_type": "code",
   "execution_count": 8,
   "metadata": {},
   "outputs": [
    {
     "name": "stdout",
     "output_type": "stream",
     "text": [
      "0         tiniebeany climate change is an interesting h...\n",
      "1        rt  natgeochannel  watch  beforetheflood right...\n",
      "2        fabulous  leonardo  dicaprio s film on  climat...\n",
      "3        rt  mick fanning  just watched this amazing do...\n",
      "4        rt  cnalive  pranita biswasi  a lutheran from ...\n",
      "                               ...                        \n",
      "43938    dear  realdonaldtrump  yeah right  human media...\n",
      "43939    what will your respective parties do to preven...\n",
      "43940    rt  mikkil  un poll shows climate change is th...\n",
      "43941    rt  taehbeingextra  i still can q t believe th...\n",
      "43942     likeabat    zachhaller   the wealthy   fossil...\n",
      "Name: message, Length: 43943, dtype: object\n"
     ]
    }
   ],
   "source": [
    "#Regular expression\n",
    "#Return the string obtained by replacing the leftmost non-overlapping occurrences of pattern in string by the replacement repl\n",
    "#replace whatever except alphabets to space\n",
    "X[\"message\"] = X[\"message\"].apply(lambda x: re.sub(\"[^a-zA-Z]\", \" \", x))\n",
    "print(X[\"message\"])"
   ]
  },
  {
   "cell_type": "code",
   "execution_count": 9,
   "metadata": {},
   "outputs": [
    {
     "name": "stdout",
     "output_type": "stream",
     "text": [
      "0         tiniebeany climate change is an interesting h...\n",
      "1        rt natgeochannel watch beforetheflood right he...\n",
      "2        fabulous leonardo dicaprio s film on climate c...\n",
      "3        rt mick fanning just watched this amazing docu...\n",
      "4        rt cnalive pranita biswasi a lutheran from odi...\n",
      "                               ...                        \n",
      "43938    dear realdonaldtrump yeah right human mediated...\n",
      "43939    what will your respective parties do to preven...\n",
      "43940    rt mikkil un poll shows climate change is the ...\n",
      "43941    rt taehbeingextra i still can q t believe this...\n",
      "43942     likeabat zachhaller the wealthy fossil fuel i...\n",
      "Name: message, Length: 43943, dtype: object\n"
     ]
    }
   ],
   "source": [
    "#replace tab with space\n",
    "X[\"message\"] = X[\"message\"].apply(lambda x: re.sub(\"\\s+\", \" \", x))\n",
    "print(X[\"message\"])"
   ]
  },
  {
   "cell_type": "code",
   "execution_count": 10,
   "metadata": {},
   "outputs": [
    {
     "name": "stdout",
     "output_type": "stream",
     "text": [
      "[0.60745494 0.57570999 0.53697003]\n"
     ]
    }
   ],
   "source": [
    "y = X[\"sentiment\"]\n",
    "X = X[\"message\"]\n",
    "\n",
    "# define stop words\n",
    "stopwords = stopwords.words('english')\n",
    "\n",
    "#remove stopwords\n",
    "vectorizer = CountVectorizer(stop_words=stopwords)\n",
    "\n",
    "X = vectorizer.fit_transform(X)\n",
    "\n",
    "model = RandomForestClassifier(n_estimators=5, n_jobs=-1, class_weight='balanced', random_state=0)\n",
    "\n",
    "#Evaluate a score by cross-validation\n",
    "#cross_val_score(estimator, X, y=None)\n",
    "#estimator: The object to use to fit the data.\n",
    "#X: The data to fit. \n",
    "#y: The target variable to try to predict in the case of supervised learning.\n",
    "The object to use to fit the data.\n",
    "print(cross_val_score(model, X, y, cv=3))"
   ]
  },
  {
   "cell_type": "code",
   "execution_count": 15,
   "metadata": {},
   "outputs": [
    {
     "data": {
      "image/png": "[encoded data removed]",
      "text/plain": [
       "<Figure size 1440x360 with 1 Axes>"
      ]
     },
     "metadata": {
      "needs_background": "light"
     },
     "output_type": "display_data"
    }
   ],
   "source": [
    "#s : pd.Series; each element as a list of words from tokenization\n",
    "#n : int; n most frequent words are judged as stop words \n",
    "#return : list; a list of stop words\n",
    "\n",
    "def get_stop_words(s, n):\n",
    "    from collections import Counter\n",
    "    l = get_corpus(s)\n",
    "    l = [x for x in Counter(l).most_common(n)]\n",
    "    return l\n",
    "\n",
    "freqwords = get_stop_words(df['message'],n=100)\n",
    "\n",
    "freq = [s[1] for s in freqwords]\n",
    "\n",
    "plt.title('frequency of top 20 most frequent words')\n",
    "plt.plot(freq)\n",
    "plt.xlim([-1,30])\n",
    "plt.ylim([0,1.1*max(freq)])\n",
    "plt.ylabel('frequency')\n",
    "plt.show()"
   ]
  }
 ],
 "metadata": {
  "kernelspec": {
   "display_name": "Python 3",
   "language": "python",
   "name": "python3"
  },
  "language_info": {
   "codemirror_mode": {
    "name": "ipython",
    "version": 3
   },
   "file_extension": ".py",
   "mimetype": "text/x-python",
   "name": "python",
   "nbconvert_exporter": "python",
   "pygments_lexer": "ipython3",
   "version": "3.7.6"
  }
 },
 "nbformat": 4,
 "nbformat_minor": 2
}
